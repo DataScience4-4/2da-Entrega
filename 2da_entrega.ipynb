{
 "cells": [
  {
   "cell_type": "markdown",
   "id": "7c704a83",
   "metadata": {},
   "source": [
    "### Librerias"
   ]
  },
  {
   "cell_type": "code",
   "execution_count": 1,
   "id": "cfae68f6",
   "metadata": {},
   "outputs": [],
   "source": [
    "import pandas as pd\n",
    "import matplotlib.pyplot as plt\n",
    "import numpy as np\n",
    "import seaborn as sns\n",
    "\n",
    "from sklearn.linear_model import LinearRegression \n",
    "from sklearn.model_selection import KFold\n",
    "from sklearn.model_selection import train_test_split\n",
    "# from sklearn.preprocessing import MinMaxScaler\n",
    "# from keras.models import Sequential\n",
    "# from keras.leyers import Dense, LSTM\n",
    "\n",
    "from sklearn.decomposition import PCA\n",
    "from sklearn.preprocessing import StandardScaler\n",
    "%matplotlib inline"
   ]
  },
  {
   "cell_type": "markdown",
   "id": "c8cdfb30",
   "metadata": {},
   "source": [
    "### Datos csv Bitcoin + S&P500"
   ]
  },
  {
   "cell_type": "code",
   "execution_count": 2,
   "id": "1e5d2d5c",
   "metadata": {},
   "outputs": [
    {
     "data": {
      "text/plain": [
       "(2854, 7)"
      ]
     },
     "execution_count": 2,
     "metadata": {},
     "output_type": "execute_result"
    }
   ],
   "source": [
    "btc = pd.read_csv('Bitcoin .csv', sep=\",\", encoding = 'latin-1')\n",
    "btc.shape"
   ]
  },
  {
   "cell_type": "markdown",
   "id": "024d246a",
   "metadata": {},
   "source": [
    "El dataset cuenta con 2854 registros y 7 columnas."
   ]
  },
  {
   "cell_type": "code",
   "execution_count": 3,
   "id": "b8e08aca",
   "metadata": {},
   "outputs": [
    {
     "data": {
      "text/plain": [
       "(1966, 6)"
      ]
     },
     "execution_count": 3,
     "metadata": {},
     "output_type": "execute_result"
    }
   ],
   "source": [
    "sp500 = pd.read_csv('S&P500.csv', sep=\";\", encoding='latin-1')\n",
    "sp500.shape"
   ]
  },
  {
   "cell_type": "markdown",
   "id": "02025195",
   "metadata": {},
   "source": [
    "El dataset cuenta con 1966 registros y 6 columnas."
   ]
  },
  {
   "cell_type": "markdown",
   "id": "8c2975e2",
   "metadata": {},
   "source": [
    "### DATA WRANGLING\n",
    "#### Se realiza el EDA y estadisticas descriptivas en dos etapas:\n",
    "####  1) Para cada dataset en particular\n",
    "####  2) Para el dataset ya unido"
   ]
  },
  {
   "cell_type": "markdown",
   "id": "d051ea76",
   "metadata": {},
   "source": [
    "### 1) EDA"
   ]
  },
  {
   "cell_type": "code",
   "execution_count": 4,
   "id": "4b04b0df",
   "metadata": {},
   "outputs": [
    {
     "data": {
      "text/html": [
       "<div>\n",
       "<style scoped>\n",
       "    .dataframe tbody tr th:only-of-type {\n",
       "        vertical-align: middle;\n",
       "    }\n",
       "\n",
       "    .dataframe tbody tr th {\n",
       "        vertical-align: top;\n",
       "    }\n",
       "\n",
       "    .dataframe thead th {\n",
       "        text-align: right;\n",
       "    }\n",
       "</style>\n",
       "<table border=\"1\" class=\"dataframe\">\n",
       "  <thead>\n",
       "    <tr style=\"text-align: right;\">\n",
       "      <th></th>\n",
       "      <th>Date</th>\n",
       "      <th>Open</th>\n",
       "      <th>High</th>\n",
       "      <th>Low</th>\n",
       "      <th>Close</th>\n",
       "      <th>Volume</th>\n",
       "      <th>Currency</th>\n",
       "    </tr>\n",
       "  </thead>\n",
       "  <tbody>\n",
       "    <tr>\n",
       "      <th>0</th>\n",
       "      <td>2014-09-17</td>\n",
       "      <td>465.864014</td>\n",
       "      <td>468.174011</td>\n",
       "      <td>452.421997</td>\n",
       "      <td>457.334015</td>\n",
       "      <td>21056800</td>\n",
       "      <td>USD</td>\n",
       "    </tr>\n",
       "    <tr>\n",
       "      <th>1</th>\n",
       "      <td>2014-09-18</td>\n",
       "      <td>456.859985</td>\n",
       "      <td>456.859985</td>\n",
       "      <td>413.104004</td>\n",
       "      <td>424.440002</td>\n",
       "      <td>34483200</td>\n",
       "      <td>USD</td>\n",
       "    </tr>\n",
       "    <tr>\n",
       "      <th>2</th>\n",
       "      <td>2014-09-19</td>\n",
       "      <td>424.102997</td>\n",
       "      <td>427.834991</td>\n",
       "      <td>384.532013</td>\n",
       "      <td>394.795990</td>\n",
       "      <td>37919700</td>\n",
       "      <td>USD</td>\n",
       "    </tr>\n",
       "    <tr>\n",
       "      <th>3</th>\n",
       "      <td>2014-09-20</td>\n",
       "      <td>394.673004</td>\n",
       "      <td>423.295990</td>\n",
       "      <td>389.882996</td>\n",
       "      <td>408.903992</td>\n",
       "      <td>36863600</td>\n",
       "      <td>USD</td>\n",
       "    </tr>\n",
       "    <tr>\n",
       "      <th>4</th>\n",
       "      <td>2014-09-21</td>\n",
       "      <td>408.084991</td>\n",
       "      <td>412.425995</td>\n",
       "      <td>393.181000</td>\n",
       "      <td>398.821014</td>\n",
       "      <td>26580100</td>\n",
       "      <td>USD</td>\n",
       "    </tr>\n",
       "  </tbody>\n",
       "</table>\n",
       "</div>"
      ],
      "text/plain": [
       "         Date        Open        High         Low       Close    Volume  \\\n",
       "0  2014-09-17  465.864014  468.174011  452.421997  457.334015  21056800   \n",
       "1  2014-09-18  456.859985  456.859985  413.104004  424.440002  34483200   \n",
       "2  2014-09-19  424.102997  427.834991  384.532013  394.795990  37919700   \n",
       "3  2014-09-20  394.673004  423.295990  389.882996  408.903992  36863600   \n",
       "4  2014-09-21  408.084991  412.425995  393.181000  398.821014  26580100   \n",
       "\n",
       "  Currency  \n",
       "0      USD  \n",
       "1      USD  \n",
       "2      USD  \n",
       "3      USD  \n",
       "4      USD  "
      ]
     },
     "execution_count": 4,
     "metadata": {},
     "output_type": "execute_result"
    }
   ],
   "source": [
    "btc.head()"
   ]
  },
  {
   "cell_type": "code",
   "execution_count": 5,
   "id": "75a1da3f",
   "metadata": {},
   "outputs": [
    {
     "data": {
      "text/html": [
       "<div>\n",
       "<style scoped>\n",
       "    .dataframe tbody tr th:only-of-type {\n",
       "        vertical-align: middle;\n",
       "    }\n",
       "\n",
       "    .dataframe tbody tr th {\n",
       "        vertical-align: top;\n",
       "    }\n",
       "\n",
       "    .dataframe thead th {\n",
       "        text-align: right;\n",
       "    }\n",
       "</style>\n",
       "<table border=\"1\" class=\"dataframe\">\n",
       "  <thead>\n",
       "    <tr style=\"text-align: right;\">\n",
       "      <th></th>\n",
       "      <th>Date</th>\n",
       "      <th>S&amp;P 500 Open</th>\n",
       "      <th>S&amp;P 500 High</th>\n",
       "      <th>S&amp;P 500 Low</th>\n",
       "      <th>S&amp;P 500 Close*</th>\n",
       "      <th>S&amp;P 500 Volume</th>\n",
       "    </tr>\n",
       "  </thead>\n",
       "  <tbody>\n",
       "    <tr>\n",
       "      <th>0</th>\n",
       "      <td>Jul 08 2022</td>\n",
       "      <td>3888.26</td>\n",
       "      <td>3918.50</td>\n",
       "      <td>3869.34</td>\n",
       "      <td>3899.38</td>\n",
       "      <td>2844620000</td>\n",
       "    </tr>\n",
       "    <tr>\n",
       "      <th>1</th>\n",
       "      <td>Jul 07 2022</td>\n",
       "      <td>3858.85</td>\n",
       "      <td>3910.63</td>\n",
       "      <td>3858.85</td>\n",
       "      <td>3902.62</td>\n",
       "      <td>3337710000</td>\n",
       "    </tr>\n",
       "    <tr>\n",
       "      <th>2</th>\n",
       "      <td>Jul 06 2022</td>\n",
       "      <td>3831.98</td>\n",
       "      <td>3870.91</td>\n",
       "      <td>3809.37</td>\n",
       "      <td>3845.08</td>\n",
       "      <td>3613120000</td>\n",
       "    </tr>\n",
       "    <tr>\n",
       "      <th>3</th>\n",
       "      <td>Jul 05 2022</td>\n",
       "      <td>3792.61</td>\n",
       "      <td>3832.19</td>\n",
       "      <td>3742.06</td>\n",
       "      <td>3831.39</td>\n",
       "      <td>4427900000</td>\n",
       "    </tr>\n",
       "    <tr>\n",
       "      <th>4</th>\n",
       "      <td>Jul 01 2022</td>\n",
       "      <td>3781.00</td>\n",
       "      <td>3829.82</td>\n",
       "      <td>3752.10</td>\n",
       "      <td>3825.33</td>\n",
       "      <td>3268240000</td>\n",
       "    </tr>\n",
       "  </tbody>\n",
       "</table>\n",
       "</div>"
      ],
      "text/plain": [
       "          Date  S&P 500 Open  S&P 500 High  S&P 500 Low  S&P 500 Close*  \\\n",
       "0  Jul 08 2022       3888.26       3918.50      3869.34         3899.38   \n",
       "1  Jul 07 2022       3858.85       3910.63      3858.85         3902.62   \n",
       "2  Jul 06 2022       3831.98       3870.91      3809.37         3845.08   \n",
       "3  Jul 05 2022       3792.61       3832.19      3742.06         3831.39   \n",
       "4  Jul 01 2022       3781.00       3829.82      3752.10         3825.33   \n",
       "\n",
       "   S&P 500 Volume  \n",
       "0      2844620000  \n",
       "1      3337710000  \n",
       "2      3613120000  \n",
       "3      4427900000  \n",
       "4      3268240000  "
      ]
     },
     "execution_count": 5,
     "metadata": {},
     "output_type": "execute_result"
    }
   ],
   "source": [
    "sp500.head()"
   ]
  },
  {
   "cell_type": "code",
   "execution_count": 6,
   "id": "329eba80",
   "metadata": {},
   "outputs": [
    {
     "name": "stdout",
     "output_type": "stream",
     "text": [
      "<class 'pandas.core.frame.DataFrame'>\n",
      "RangeIndex: 2854 entries, 0 to 2853\n",
      "Data columns (total 7 columns):\n",
      " #   Column    Non-Null Count  Dtype  \n",
      "---  ------    --------------  -----  \n",
      " 0   Date      2854 non-null   object \n",
      " 1   Open      2854 non-null   float64\n",
      " 2   High      2854 non-null   float64\n",
      " 3   Low       2854 non-null   float64\n",
      " 4   Close     2854 non-null   float64\n",
      " 5   Volume    2854 non-null   int64  \n",
      " 6   Currency  2854 non-null   object \n",
      "dtypes: float64(4), int64(1), object(2)\n",
      "memory usage: 156.2+ KB\n"
     ]
    }
   ],
   "source": [
    "btc.info()"
   ]
  },
  {
   "cell_type": "markdown",
   "id": "285cc519",
   "metadata": {},
   "source": [
    "Valores nulos:\n",
    "* El dataset no presenta valores nulos.\n",
    "\n",
    "Tipos de datos:\n",
    "* La columna 'Date' debe ser transformada a tipo datetime.\n",
    "* Las columnas 'Open', 'High', 'Low', 'Close' son de tipo `float64`.\n",
    "* La columna 'Volume' es de tipo `int64`.\n",
    "* La columna 'Currency' de tipo `object`. "
   ]
  },
  {
   "cell_type": "code",
   "execution_count": 7,
   "id": "56fa5a92",
   "metadata": {},
   "outputs": [
    {
     "name": "stdout",
     "output_type": "stream",
     "text": [
      "<class 'pandas.core.frame.DataFrame'>\n",
      "RangeIndex: 1966 entries, 0 to 1965\n",
      "Data columns (total 6 columns):\n",
      " #   Column          Non-Null Count  Dtype  \n",
      "---  ------          --------------  -----  \n",
      " 0   Date            1966 non-null   object \n",
      " 1   S&P 500 Open    1966 non-null   float64\n",
      " 2   S&P 500 High    1966 non-null   float64\n",
      " 3   S&P 500 Low     1966 non-null   float64\n",
      " 4   S&P 500 Close*  1966 non-null   float64\n",
      " 5   S&P 500 Volume  1966 non-null   int64  \n",
      "dtypes: float64(4), int64(1), object(1)\n",
      "memory usage: 92.3+ KB\n"
     ]
    }
   ],
   "source": [
    "sp500.info()"
   ]
  },
  {
   "cell_type": "markdown",
   "id": "55ac5fc9",
   "metadata": {},
   "source": [
    "Valores nulos\n",
    "* El dataset no presenta valores nulos.\n",
    "\n",
    "Tipos de datos:\n",
    "\n",
    "* La columna 'Date' debe ser transformada a tipo datetime.\n",
    "* Las columnas 'Open', 'High', 'Low', 'Close*' son de tipo `float64`. \n",
    "* La columna  'Volume' es de tipo `int64` ."
   ]
  },
  {
   "cell_type": "markdown",
   "id": "a8f8ef87",
   "metadata": {},
   "source": [
    "### 1) Estaditicas descriptivas"
   ]
  },
  {
   "cell_type": "code",
   "execution_count": 8,
   "id": "61c94ecc",
   "metadata": {},
   "outputs": [
    {
     "data": {
      "text/html": [
       "<div>\n",
       "<style scoped>\n",
       "    .dataframe tbody tr th:only-of-type {\n",
       "        vertical-align: middle;\n",
       "    }\n",
       "\n",
       "    .dataframe tbody tr th {\n",
       "        vertical-align: top;\n",
       "    }\n",
       "\n",
       "    .dataframe thead th {\n",
       "        text-align: right;\n",
       "    }\n",
       "</style>\n",
       "<table border=\"1\" class=\"dataframe\">\n",
       "  <thead>\n",
       "    <tr style=\"text-align: right;\">\n",
       "      <th></th>\n",
       "      <th>Open</th>\n",
       "      <th>High</th>\n",
       "      <th>Low</th>\n",
       "      <th>Close</th>\n",
       "      <th>Volume</th>\n",
       "    </tr>\n",
       "  </thead>\n",
       "  <tbody>\n",
       "    <tr>\n",
       "      <th>count</th>\n",
       "      <td>2854.000000</td>\n",
       "      <td>2854.000000</td>\n",
       "      <td>2854.000000</td>\n",
       "      <td>2854.000000</td>\n",
       "      <td>2.854000e+03</td>\n",
       "    </tr>\n",
       "    <tr>\n",
       "      <th>mean</th>\n",
       "      <td>12444.903732</td>\n",
       "      <td>12768.600474</td>\n",
       "      <td>12081.369272</td>\n",
       "      <td>12450.552730</td>\n",
       "      <td>1.545053e+10</td>\n",
       "    </tr>\n",
       "    <tr>\n",
       "      <th>std</th>\n",
       "      <td>16577.341124</td>\n",
       "      <td>17005.417766</td>\n",
       "      <td>16080.505775</td>\n",
       "      <td>16572.919487</td>\n",
       "      <td>1.991923e+10</td>\n",
       "    </tr>\n",
       "    <tr>\n",
       "      <th>min</th>\n",
       "      <td>176.897003</td>\n",
       "      <td>211.731003</td>\n",
       "      <td>171.509995</td>\n",
       "      <td>178.102997</td>\n",
       "      <td>5.914570e+06</td>\n",
       "    </tr>\n",
       "    <tr>\n",
       "      <th>25%</th>\n",
       "      <td>636.274521</td>\n",
       "      <td>642.085510</td>\n",
       "      <td>625.957230</td>\n",
       "      <td>637.079514</td>\n",
       "      <td>8.649955e+07</td>\n",
       "    </tr>\n",
       "    <tr>\n",
       "      <th>50%</th>\n",
       "      <td>6572.784912</td>\n",
       "      <td>6674.324951</td>\n",
       "      <td>6453.779785</td>\n",
       "      <td>6578.659912</td>\n",
       "      <td>5.864455e+09</td>\n",
       "    </tr>\n",
       "    <tr>\n",
       "      <th>75%</th>\n",
       "      <td>11538.891113</td>\n",
       "      <td>11854.514404</td>\n",
       "      <td>11288.520996</td>\n",
       "      <td>11568.815674</td>\n",
       "      <td>2.632111e+10</td>\n",
       "    </tr>\n",
       "    <tr>\n",
       "      <th>max</th>\n",
       "      <td>67549.734375</td>\n",
       "      <td>68789.625000</td>\n",
       "      <td>66382.062500</td>\n",
       "      <td>67566.828125</td>\n",
       "      <td>3.509679e+11</td>\n",
       "    </tr>\n",
       "  </tbody>\n",
       "</table>\n",
       "</div>"
      ],
      "text/plain": [
       "               Open          High           Low         Close        Volume\n",
       "count   2854.000000   2854.000000   2854.000000   2854.000000  2.854000e+03\n",
       "mean   12444.903732  12768.600474  12081.369272  12450.552730  1.545053e+10\n",
       "std    16577.341124  17005.417766  16080.505775  16572.919487  1.991923e+10\n",
       "min      176.897003    211.731003    171.509995    178.102997  5.914570e+06\n",
       "25%      636.274521    642.085510    625.957230    637.079514  8.649955e+07\n",
       "50%     6572.784912   6674.324951   6453.779785   6578.659912  5.864455e+09\n",
       "75%    11538.891113  11854.514404  11288.520996  11568.815674  2.632111e+10\n",
       "max    67549.734375  68789.625000  66382.062500  67566.828125  3.509679e+11"
      ]
     },
     "execution_count": 8,
     "metadata": {},
     "output_type": "execute_result"
    }
   ],
   "source": [
    "btc.describe()"
   ]
  },
  {
   "cell_type": "markdown",
   "id": "019bb1df",
   "metadata": {},
   "source": [
    "Interpretación de `btc.describe()`:las medias de todas las variables numéricas (menos 'Volume') rondan entre los 12,000 y 13,000 y el desvio estandar entre 16,000 y 18,000. Mas del 50% de los registros tienen un valor entre 6,400 y 6,700 en las variables numericas (menos 'Volume').\n"
   ]
  },
  {
   "cell_type": "code",
   "execution_count": 9,
   "id": "0f4cbff4",
   "metadata": {},
   "outputs": [
    {
     "data": {
      "text/html": [
       "<div>\n",
       "<style scoped>\n",
       "    .dataframe tbody tr th:only-of-type {\n",
       "        vertical-align: middle;\n",
       "    }\n",
       "\n",
       "    .dataframe tbody tr th {\n",
       "        vertical-align: top;\n",
       "    }\n",
       "\n",
       "    .dataframe thead th {\n",
       "        text-align: right;\n",
       "    }\n",
       "</style>\n",
       "<table border=\"1\" class=\"dataframe\">\n",
       "  <thead>\n",
       "    <tr style=\"text-align: right;\">\n",
       "      <th></th>\n",
       "      <th>S&amp;P 500 Open</th>\n",
       "      <th>S&amp;P 500 High</th>\n",
       "      <th>S&amp;P 500 Low</th>\n",
       "      <th>S&amp;P 500 Close*</th>\n",
       "      <th>S&amp;P 500 Volume</th>\n",
       "    </tr>\n",
       "  </thead>\n",
       "  <tbody>\n",
       "    <tr>\n",
       "      <th>count</th>\n",
       "      <td>1966.000000</td>\n",
       "      <td>1966.000000</td>\n",
       "      <td>1966.000000</td>\n",
       "      <td>1966.000000</td>\n",
       "      <td>1.966000e+03</td>\n",
       "    </tr>\n",
       "    <tr>\n",
       "      <th>mean</th>\n",
       "      <td>2886.647945</td>\n",
       "      <td>2901.945549</td>\n",
       "      <td>2869.673413</td>\n",
       "      <td>2886.849186</td>\n",
       "      <td>3.843598e+09</td>\n",
       "    </tr>\n",
       "    <tr>\n",
       "      <th>std</th>\n",
       "      <td>804.088647</td>\n",
       "      <td>809.465921</td>\n",
       "      <td>798.079041</td>\n",
       "      <td>804.010927</td>\n",
       "      <td>9.628574e+08</td>\n",
       "    </tr>\n",
       "    <tr>\n",
       "      <th>min</th>\n",
       "      <td>1833.400000</td>\n",
       "      <td>1847.000000</td>\n",
       "      <td>1810.100000</td>\n",
       "      <td>1829.080000</td>\n",
       "      <td>1.296540e+09</td>\n",
       "    </tr>\n",
       "    <tr>\n",
       "      <th>25%</th>\n",
       "      <td>2157.077500</td>\n",
       "      <td>2164.065000</td>\n",
       "      <td>2145.080000</td>\n",
       "      <td>2157.532500</td>\n",
       "      <td>3.267015e+09</td>\n",
       "    </tr>\n",
       "    <tr>\n",
       "      <th>50%</th>\n",
       "      <td>2729.250000</td>\n",
       "      <td>2742.765000</td>\n",
       "      <td>2711.760000</td>\n",
       "      <td>2727.940000</td>\n",
       "      <td>3.634260e+09</td>\n",
       "    </tr>\n",
       "    <tr>\n",
       "      <th>75%</th>\n",
       "      <td>3319.652500</td>\n",
       "      <td>3330.612500</td>\n",
       "      <td>3299.502500</td>\n",
       "      <td>3318.805000</td>\n",
       "      <td>4.151188e+09</td>\n",
       "    </tr>\n",
       "    <tr>\n",
       "      <th>max</th>\n",
       "      <td>4804.510000</td>\n",
       "      <td>4818.620000</td>\n",
       "      <td>4780.040000</td>\n",
       "      <td>4796.560000</td>\n",
       "      <td>9.878040e+09</td>\n",
       "    </tr>\n",
       "  </tbody>\n",
       "</table>\n",
       "</div>"
      ],
      "text/plain": [
       "       S&P 500 Open  S&P 500 High  S&P 500 Low  S&P 500 Close*  S&P 500 Volume\n",
       "count   1966.000000   1966.000000  1966.000000     1966.000000    1.966000e+03\n",
       "mean    2886.647945   2901.945549  2869.673413     2886.849186    3.843598e+09\n",
       "std      804.088647    809.465921   798.079041      804.010927    9.628574e+08\n",
       "min     1833.400000   1847.000000  1810.100000     1829.080000    1.296540e+09\n",
       "25%     2157.077500   2164.065000  2145.080000     2157.532500    3.267015e+09\n",
       "50%     2729.250000   2742.765000  2711.760000     2727.940000    3.634260e+09\n",
       "75%     3319.652500   3330.612500  3299.502500     3318.805000    4.151188e+09\n",
       "max     4804.510000   4818.620000  4780.040000     4796.560000    9.878040e+09"
      ]
     },
     "execution_count": 9,
     "metadata": {},
     "output_type": "execute_result"
    }
   ],
   "source": [
    "sp500.describe()"
   ]
  },
  {
   "cell_type": "markdown",
   "id": "4368e0d7",
   "metadata": {},
   "source": [
    "Interpretación de `sp500.describe()`: las medias de todas las variables numéricas (menos 'Volume') rondan entre los 2,800 y 3,000 y el desvio estandar entre 7,000 y 8,000. Mas del 50% de los registros tienen un valor entre 2,700 y 2,800 en las variables numericas (menos 'Volume'). Se observa que los valores de las medias y del 50% de las variables numericas son similiares, lo que podria llevar a pensar que tiene un comportamiento mas simetrico/dist. normal. "
   ]
  },
  {
   "cell_type": "markdown",
   "id": "21e38f45",
   "metadata": {},
   "source": [
    "#### Transformamos la columna Date de (str) a (date)"
   ]
  },
  {
   "cell_type": "code",
   "execution_count": 10,
   "id": "a23757b9",
   "metadata": {},
   "outputs": [],
   "source": [
    "btc['Date'] =  pd.to_datetime(btc['Date'])\n",
    "#btc = btc.set_index('Date')"
   ]
  },
  {
   "cell_type": "code",
   "execution_count": 11,
   "id": "db871243",
   "metadata": {},
   "outputs": [],
   "source": [
    "sp500['Date'] =  pd.to_datetime(sp500['Date'])\n",
    "#sp500 = sp500.set_index('Date')"
   ]
  },
  {
   "cell_type": "markdown",
   "id": "4aaa2fc3",
   "metadata": {},
   "source": [
    "#### Creamos las columnas \"Weekday\" y \"Weekend\""
   ]
  },
  {
   "cell_type": "code",
   "execution_count": 12,
   "id": "7517b06d",
   "metadata": {},
   "outputs": [
    {
     "data": {
      "text/html": [
       "<div>\n",
       "<style scoped>\n",
       "    .dataframe tbody tr th:only-of-type {\n",
       "        vertical-align: middle;\n",
       "    }\n",
       "\n",
       "    .dataframe tbody tr th {\n",
       "        vertical-align: top;\n",
       "    }\n",
       "\n",
       "    .dataframe thead th {\n",
       "        text-align: right;\n",
       "    }\n",
       "</style>\n",
       "<table border=\"1\" class=\"dataframe\">\n",
       "  <thead>\n",
       "    <tr style=\"text-align: right;\">\n",
       "      <th></th>\n",
       "      <th>Open</th>\n",
       "      <th>High</th>\n",
       "      <th>Low</th>\n",
       "      <th>Close</th>\n",
       "      <th>Volume</th>\n",
       "      <th>Currency</th>\n",
       "      <th>Weekday</th>\n",
       "      <th>Weekend</th>\n",
       "    </tr>\n",
       "    <tr>\n",
       "      <th>Date</th>\n",
       "      <th></th>\n",
       "      <th></th>\n",
       "      <th></th>\n",
       "      <th></th>\n",
       "      <th></th>\n",
       "      <th></th>\n",
       "      <th></th>\n",
       "      <th></th>\n",
       "    </tr>\n",
       "  </thead>\n",
       "  <tbody>\n",
       "    <tr>\n",
       "      <th>2014-09-17</th>\n",
       "      <td>465.864014</td>\n",
       "      <td>468.174011</td>\n",
       "      <td>452.421997</td>\n",
       "      <td>457.334015</td>\n",
       "      <td>21056800</td>\n",
       "      <td>USD</td>\n",
       "      <td>2</td>\n",
       "      <td>True</td>\n",
       "    </tr>\n",
       "    <tr>\n",
       "      <th>2014-09-18</th>\n",
       "      <td>456.859985</td>\n",
       "      <td>456.859985</td>\n",
       "      <td>413.104004</td>\n",
       "      <td>424.440002</td>\n",
       "      <td>34483200</td>\n",
       "      <td>USD</td>\n",
       "      <td>3</td>\n",
       "      <td>True</td>\n",
       "    </tr>\n",
       "    <tr>\n",
       "      <th>2014-09-19</th>\n",
       "      <td>424.102997</td>\n",
       "      <td>427.834991</td>\n",
       "      <td>384.532013</td>\n",
       "      <td>394.795990</td>\n",
       "      <td>37919700</td>\n",
       "      <td>USD</td>\n",
       "      <td>4</td>\n",
       "      <td>True</td>\n",
       "    </tr>\n",
       "    <tr>\n",
       "      <th>2014-09-20</th>\n",
       "      <td>394.673004</td>\n",
       "      <td>423.295990</td>\n",
       "      <td>389.882996</td>\n",
       "      <td>408.903992</td>\n",
       "      <td>36863600</td>\n",
       "      <td>USD</td>\n",
       "      <td>5</td>\n",
       "      <td>True</td>\n",
       "    </tr>\n",
       "    <tr>\n",
       "      <th>2014-09-21</th>\n",
       "      <td>408.084991</td>\n",
       "      <td>412.425995</td>\n",
       "      <td>393.181000</td>\n",
       "      <td>398.821014</td>\n",
       "      <td>26580100</td>\n",
       "      <td>USD</td>\n",
       "      <td>6</td>\n",
       "      <td>False</td>\n",
       "    </tr>\n",
       "    <tr>\n",
       "      <th>...</th>\n",
       "      <td>...</td>\n",
       "      <td>...</td>\n",
       "      <td>...</td>\n",
       "      <td>...</td>\n",
       "      <td>...</td>\n",
       "      <td>...</td>\n",
       "      <td>...</td>\n",
       "      <td>...</td>\n",
       "    </tr>\n",
       "    <tr>\n",
       "      <th>2022-07-06</th>\n",
       "      <td>20194.619141</td>\n",
       "      <td>20595.529297</td>\n",
       "      <td>19823.511719</td>\n",
       "      <td>20548.246094</td>\n",
       "      <td>24598943708</td>\n",
       "      <td>USD</td>\n",
       "      <td>2</td>\n",
       "      <td>True</td>\n",
       "    </tr>\n",
       "    <tr>\n",
       "      <th>2022-07-07</th>\n",
       "      <td>20547.814453</td>\n",
       "      <td>21771.816406</td>\n",
       "      <td>20296.103516</td>\n",
       "      <td>21637.587891</td>\n",
       "      <td>25814972520</td>\n",
       "      <td>USD</td>\n",
       "      <td>3</td>\n",
       "      <td>True</td>\n",
       "    </tr>\n",
       "    <tr>\n",
       "      <th>2022-07-08</th>\n",
       "      <td>21637.154297</td>\n",
       "      <td>22314.941406</td>\n",
       "      <td>21257.453125</td>\n",
       "      <td>21731.117188</td>\n",
       "      <td>49899834488</td>\n",
       "      <td>USD</td>\n",
       "      <td>4</td>\n",
       "      <td>True</td>\n",
       "    </tr>\n",
       "    <tr>\n",
       "      <th>2022-07-09</th>\n",
       "      <td>21716.828125</td>\n",
       "      <td>21877.138672</td>\n",
       "      <td>21445.957031</td>\n",
       "      <td>21592.207031</td>\n",
       "      <td>29641127858</td>\n",
       "      <td>USD</td>\n",
       "      <td>5</td>\n",
       "      <td>True</td>\n",
       "    </tr>\n",
       "    <tr>\n",
       "      <th>2022-07-10</th>\n",
       "      <td>21589.587891</td>\n",
       "      <td>21589.587891</td>\n",
       "      <td>21208.312500</td>\n",
       "      <td>21305.087891</td>\n",
       "      <td>31991787520</td>\n",
       "      <td>USD</td>\n",
       "      <td>6</td>\n",
       "      <td>False</td>\n",
       "    </tr>\n",
       "  </tbody>\n",
       "</table>\n",
       "<p>2854 rows × 8 columns</p>\n",
       "</div>"
      ],
      "text/plain": [
       "                    Open          High           Low         Close  \\\n",
       "Date                                                                 \n",
       "2014-09-17    465.864014    468.174011    452.421997    457.334015   \n",
       "2014-09-18    456.859985    456.859985    413.104004    424.440002   \n",
       "2014-09-19    424.102997    427.834991    384.532013    394.795990   \n",
       "2014-09-20    394.673004    423.295990    389.882996    408.903992   \n",
       "2014-09-21    408.084991    412.425995    393.181000    398.821014   \n",
       "...                  ...           ...           ...           ...   \n",
       "2022-07-06  20194.619141  20595.529297  19823.511719  20548.246094   \n",
       "2022-07-07  20547.814453  21771.816406  20296.103516  21637.587891   \n",
       "2022-07-08  21637.154297  22314.941406  21257.453125  21731.117188   \n",
       "2022-07-09  21716.828125  21877.138672  21445.957031  21592.207031   \n",
       "2022-07-10  21589.587891  21589.587891  21208.312500  21305.087891   \n",
       "\n",
       "                 Volume Currency  Weekday  Weekend  \n",
       "Date                                                \n",
       "2014-09-17     21056800      USD        2     True  \n",
       "2014-09-18     34483200      USD        3     True  \n",
       "2014-09-19     37919700      USD        4     True  \n",
       "2014-09-20     36863600      USD        5     True  \n",
       "2014-09-21     26580100      USD        6    False  \n",
       "...                 ...      ...      ...      ...  \n",
       "2022-07-06  24598943708      USD        2     True  \n",
       "2022-07-07  25814972520      USD        3     True  \n",
       "2022-07-08  49899834488      USD        4     True  \n",
       "2022-07-09  29641127858      USD        5     True  \n",
       "2022-07-10  31991787520      USD        6    False  \n",
       "\n",
       "[2854 rows x 8 columns]"
      ]
     },
     "execution_count": 12,
     "metadata": {},
     "output_type": "execute_result"
    }
   ],
   "source": [
    "btc['Weekday'] = btc['Date'].dt.weekday\n",
    "\n",
    "#Creating Weekend or NOT\n",
    "btc['Weekend']  = btc['Weekday'] <= 5 \n",
    "\n",
    "btc = btc.set_index('Date')\n",
    "sp500 = sp500.set_index('Date')\n",
    "\n",
    "btc"
   ]
  },
  {
   "cell_type": "markdown",
   "id": "67a04e5f",
   "metadata": {},
   "source": [
    "#### Se realiza el \"merge\" de los datasets"
   ]
  },
  {
   "cell_type": "code",
   "execution_count": 13,
   "id": "6a6fa78b",
   "metadata": {},
   "outputs": [],
   "source": [
    "btc_sp = btc.merge(sp500,on='Date',how='outer')\n",
    "# btc_sp = btc_sp.drop(btc_sp['Currency'],axis=1)"
   ]
  },
  {
   "cell_type": "markdown",
   "id": "06398d4d",
   "metadata": {},
   "source": [
    "### 2) EDA"
   ]
  },
  {
   "cell_type": "code",
   "execution_count": 14,
   "id": "85bd443a",
   "metadata": {},
   "outputs": [
    {
     "data": {
      "text/html": [
       "<div>\n",
       "<style scoped>\n",
       "    .dataframe tbody tr th:only-of-type {\n",
       "        vertical-align: middle;\n",
       "    }\n",
       "\n",
       "    .dataframe tbody tr th {\n",
       "        vertical-align: top;\n",
       "    }\n",
       "\n",
       "    .dataframe thead th {\n",
       "        text-align: right;\n",
       "    }\n",
       "</style>\n",
       "<table border=\"1\" class=\"dataframe\">\n",
       "  <thead>\n",
       "    <tr style=\"text-align: right;\">\n",
       "      <th></th>\n",
       "      <th>Open</th>\n",
       "      <th>High</th>\n",
       "      <th>Low</th>\n",
       "      <th>Close</th>\n",
       "      <th>Volume</th>\n",
       "      <th>Currency</th>\n",
       "      <th>Weekday</th>\n",
       "      <th>Weekend</th>\n",
       "      <th>S&amp;P 500 Open</th>\n",
       "      <th>S&amp;P 500 High</th>\n",
       "      <th>S&amp;P 500 Low</th>\n",
       "      <th>S&amp;P 500 Close*</th>\n",
       "      <th>S&amp;P 500 Volume</th>\n",
       "    </tr>\n",
       "    <tr>\n",
       "      <th>Date</th>\n",
       "      <th></th>\n",
       "      <th></th>\n",
       "      <th></th>\n",
       "      <th></th>\n",
       "      <th></th>\n",
       "      <th></th>\n",
       "      <th></th>\n",
       "      <th></th>\n",
       "      <th></th>\n",
       "      <th></th>\n",
       "      <th></th>\n",
       "      <th></th>\n",
       "      <th></th>\n",
       "    </tr>\n",
       "  </thead>\n",
       "  <tbody>\n",
       "    <tr>\n",
       "      <th>2014-09-17</th>\n",
       "      <td>465.864014</td>\n",
       "      <td>468.174011</td>\n",
       "      <td>452.421997</td>\n",
       "      <td>457.334015</td>\n",
       "      <td>21056800</td>\n",
       "      <td>USD</td>\n",
       "      <td>2</td>\n",
       "      <td>True</td>\n",
       "      <td>1999.30</td>\n",
       "      <td>2010.74</td>\n",
       "      <td>1993.29</td>\n",
       "      <td>2001.57</td>\n",
       "      <td>3.209420e+09</td>\n",
       "    </tr>\n",
       "    <tr>\n",
       "      <th>2014-09-18</th>\n",
       "      <td>456.859985</td>\n",
       "      <td>456.859985</td>\n",
       "      <td>413.104004</td>\n",
       "      <td>424.440002</td>\n",
       "      <td>34483200</td>\n",
       "      <td>USD</td>\n",
       "      <td>3</td>\n",
       "      <td>True</td>\n",
       "      <td>2003.07</td>\n",
       "      <td>2012.34</td>\n",
       "      <td>2003.07</td>\n",
       "      <td>2011.36</td>\n",
       "      <td>3.235340e+09</td>\n",
       "    </tr>\n",
       "    <tr>\n",
       "      <th>2014-09-19</th>\n",
       "      <td>424.102997</td>\n",
       "      <td>427.834991</td>\n",
       "      <td>384.532013</td>\n",
       "      <td>394.795990</td>\n",
       "      <td>37919700</td>\n",
       "      <td>USD</td>\n",
       "      <td>4</td>\n",
       "      <td>True</td>\n",
       "      <td>2012.74</td>\n",
       "      <td>2019.26</td>\n",
       "      <td>2006.59</td>\n",
       "      <td>2010.40</td>\n",
       "      <td>4.880220e+09</td>\n",
       "    </tr>\n",
       "    <tr>\n",
       "      <th>2014-09-20</th>\n",
       "      <td>394.673004</td>\n",
       "      <td>423.295990</td>\n",
       "      <td>389.882996</td>\n",
       "      <td>408.903992</td>\n",
       "      <td>36863600</td>\n",
       "      <td>USD</td>\n",
       "      <td>5</td>\n",
       "      <td>True</td>\n",
       "      <td>NaN</td>\n",
       "      <td>NaN</td>\n",
       "      <td>NaN</td>\n",
       "      <td>NaN</td>\n",
       "      <td>NaN</td>\n",
       "    </tr>\n",
       "    <tr>\n",
       "      <th>2014-09-21</th>\n",
       "      <td>408.084991</td>\n",
       "      <td>412.425995</td>\n",
       "      <td>393.181000</td>\n",
       "      <td>398.821014</td>\n",
       "      <td>26580100</td>\n",
       "      <td>USD</td>\n",
       "      <td>6</td>\n",
       "      <td>False</td>\n",
       "      <td>NaN</td>\n",
       "      <td>NaN</td>\n",
       "      <td>NaN</td>\n",
       "      <td>NaN</td>\n",
       "      <td>NaN</td>\n",
       "    </tr>\n",
       "    <tr>\n",
       "      <th>2014-09-22</th>\n",
       "      <td>399.100006</td>\n",
       "      <td>406.915985</td>\n",
       "      <td>397.130005</td>\n",
       "      <td>402.152008</td>\n",
       "      <td>24127600</td>\n",
       "      <td>USD</td>\n",
       "      <td>0</td>\n",
       "      <td>True</td>\n",
       "      <td>2009.08</td>\n",
       "      <td>2009.08</td>\n",
       "      <td>1991.01</td>\n",
       "      <td>1994.29</td>\n",
       "      <td>3.349670e+09</td>\n",
       "    </tr>\n",
       "    <tr>\n",
       "      <th>2014-09-23</th>\n",
       "      <td>402.092010</td>\n",
       "      <td>441.557007</td>\n",
       "      <td>396.196991</td>\n",
       "      <td>435.790985</td>\n",
       "      <td>45099500</td>\n",
       "      <td>USD</td>\n",
       "      <td>1</td>\n",
       "      <td>True</td>\n",
       "      <td>1992.78</td>\n",
       "      <td>1995.41</td>\n",
       "      <td>1982.77</td>\n",
       "      <td>1982.77</td>\n",
       "      <td>3.279350e+09</td>\n",
       "    </tr>\n",
       "    <tr>\n",
       "      <th>2014-09-24</th>\n",
       "      <td>435.751007</td>\n",
       "      <td>436.112000</td>\n",
       "      <td>421.131989</td>\n",
       "      <td>423.204987</td>\n",
       "      <td>30627700</td>\n",
       "      <td>USD</td>\n",
       "      <td>2</td>\n",
       "      <td>True</td>\n",
       "      <td>1983.34</td>\n",
       "      <td>1999.79</td>\n",
       "      <td>1978.63</td>\n",
       "      <td>1998.30</td>\n",
       "      <td>3.313850e+09</td>\n",
       "    </tr>\n",
       "    <tr>\n",
       "      <th>2014-09-25</th>\n",
       "      <td>423.156006</td>\n",
       "      <td>423.519989</td>\n",
       "      <td>409.467987</td>\n",
       "      <td>411.574005</td>\n",
       "      <td>26814400</td>\n",
       "      <td>USD</td>\n",
       "      <td>3</td>\n",
       "      <td>True</td>\n",
       "      <td>1997.32</td>\n",
       "      <td>1997.32</td>\n",
       "      <td>1965.99</td>\n",
       "      <td>1965.99</td>\n",
       "      <td>3.273050e+09</td>\n",
       "    </tr>\n",
       "    <tr>\n",
       "      <th>2014-09-26</th>\n",
       "      <td>411.428986</td>\n",
       "      <td>414.937988</td>\n",
       "      <td>400.009003</td>\n",
       "      <td>404.424988</td>\n",
       "      <td>21460800</td>\n",
       "      <td>USD</td>\n",
       "      <td>4</td>\n",
       "      <td>True</td>\n",
       "      <td>1966.22</td>\n",
       "      <td>1986.37</td>\n",
       "      <td>1966.22</td>\n",
       "      <td>1982.85</td>\n",
       "      <td>2.929440e+09</td>\n",
       "    </tr>\n",
       "  </tbody>\n",
       "</table>\n",
       "</div>"
      ],
      "text/plain": [
       "                  Open        High         Low       Close    Volume Currency  \\\n",
       "Date                                                                            \n",
       "2014-09-17  465.864014  468.174011  452.421997  457.334015  21056800      USD   \n",
       "2014-09-18  456.859985  456.859985  413.104004  424.440002  34483200      USD   \n",
       "2014-09-19  424.102997  427.834991  384.532013  394.795990  37919700      USD   \n",
       "2014-09-20  394.673004  423.295990  389.882996  408.903992  36863600      USD   \n",
       "2014-09-21  408.084991  412.425995  393.181000  398.821014  26580100      USD   \n",
       "2014-09-22  399.100006  406.915985  397.130005  402.152008  24127600      USD   \n",
       "2014-09-23  402.092010  441.557007  396.196991  435.790985  45099500      USD   \n",
       "2014-09-24  435.751007  436.112000  421.131989  423.204987  30627700      USD   \n",
       "2014-09-25  423.156006  423.519989  409.467987  411.574005  26814400      USD   \n",
       "2014-09-26  411.428986  414.937988  400.009003  404.424988  21460800      USD   \n",
       "\n",
       "            Weekday  Weekend  S&P 500 Open  S&P 500 High  S&P 500 Low  \\\n",
       "Date                                                                    \n",
       "2014-09-17        2     True       1999.30       2010.74      1993.29   \n",
       "2014-09-18        3     True       2003.07       2012.34      2003.07   \n",
       "2014-09-19        4     True       2012.74       2019.26      2006.59   \n",
       "2014-09-20        5     True           NaN           NaN          NaN   \n",
       "2014-09-21        6    False           NaN           NaN          NaN   \n",
       "2014-09-22        0     True       2009.08       2009.08      1991.01   \n",
       "2014-09-23        1     True       1992.78       1995.41      1982.77   \n",
       "2014-09-24        2     True       1983.34       1999.79      1978.63   \n",
       "2014-09-25        3     True       1997.32       1997.32      1965.99   \n",
       "2014-09-26        4     True       1966.22       1986.37      1966.22   \n",
       "\n",
       "            S&P 500 Close*  S&P 500 Volume  \n",
       "Date                                        \n",
       "2014-09-17         2001.57    3.209420e+09  \n",
       "2014-09-18         2011.36    3.235340e+09  \n",
       "2014-09-19         2010.40    4.880220e+09  \n",
       "2014-09-20             NaN             NaN  \n",
       "2014-09-21             NaN             NaN  \n",
       "2014-09-22         1994.29    3.349670e+09  \n",
       "2014-09-23         1982.77    3.279350e+09  \n",
       "2014-09-24         1998.30    3.313850e+09  \n",
       "2014-09-25         1965.99    3.273050e+09  \n",
       "2014-09-26         1982.85    2.929440e+09  "
      ]
     },
     "execution_count": 14,
     "metadata": {},
     "output_type": "execute_result"
    }
   ],
   "source": [
    "btc_sp.head(10)"
   ]
  },
  {
   "cell_type": "code",
   "execution_count": 15,
   "id": "5fdbfa61",
   "metadata": {},
   "outputs": [
    {
     "data": {
      "text/plain": [
       "(2854, 13)"
      ]
     },
     "execution_count": 15,
     "metadata": {},
     "output_type": "execute_result"
    }
   ],
   "source": [
    "btc_sp.shape"
   ]
  },
  {
   "cell_type": "code",
   "execution_count": 16,
   "id": "ad97b1c8",
   "metadata": {},
   "outputs": [
    {
     "name": "stdout",
     "output_type": "stream",
     "text": [
      "<class 'pandas.core.frame.DataFrame'>\n",
      "DatetimeIndex: 2854 entries, 2014-09-17 to 2022-07-10\n",
      "Data columns (total 13 columns):\n",
      " #   Column          Non-Null Count  Dtype  \n",
      "---  ------          --------------  -----  \n",
      " 0   Open            2854 non-null   float64\n",
      " 1   High            2854 non-null   float64\n",
      " 2   Low             2854 non-null   float64\n",
      " 3   Close           2854 non-null   float64\n",
      " 4   Volume          2854 non-null   int64  \n",
      " 5   Currency        2854 non-null   object \n",
      " 6   Weekday         2854 non-null   int64  \n",
      " 7   Weekend         2854 non-null   bool   \n",
      " 8   S&P 500 Open    1966 non-null   float64\n",
      " 9   S&P 500 High    1966 non-null   float64\n",
      " 10  S&P 500 Low     1966 non-null   float64\n",
      " 11  S&P 500 Close*  1966 non-null   float64\n",
      " 12  S&P 500 Volume  1966 non-null   float64\n",
      "dtypes: bool(1), float64(9), int64(2), object(1)\n",
      "memory usage: 292.6+ KB\n"
     ]
    }
   ],
   "source": [
    "btc_sp.info()"
   ]
  },
  {
   "cell_type": "markdown",
   "id": "540e6083",
   "metadata": {},
   "source": [
    "Valores nulos:\n",
    "* El dataset presenta 888 valores nulos en las columnas provenientes del S&P, que seran rellenados utilizando el metodo \"backfill\" o \"hacia atras\" a continuacion.\n",
    "\n",
    "Tipos de datos:\n",
    "* Los tipos de datos son los mismos que detallaron anteriormente\n"
   ]
  },
  {
   "cell_type": "code",
   "execution_count": 17,
   "id": "4f92a2cd",
   "metadata": {},
   "outputs": [],
   "source": [
    "btc_sp = btc_sp.fillna(method='backfill')"
   ]
  },
  {
   "cell_type": "code",
   "execution_count": 18,
   "id": "6f626de7",
   "metadata": {},
   "outputs": [
    {
     "name": "stdout",
     "output_type": "stream",
     "text": [
      "<class 'pandas.core.frame.DataFrame'>\n",
      "DatetimeIndex: 2854 entries, 2014-09-17 to 2022-07-10\n",
      "Data columns (total 13 columns):\n",
      " #   Column          Non-Null Count  Dtype  \n",
      "---  ------          --------------  -----  \n",
      " 0   Open            2854 non-null   float64\n",
      " 1   High            2854 non-null   float64\n",
      " 2   Low             2854 non-null   float64\n",
      " 3   Close           2854 non-null   float64\n",
      " 4   Volume          2854 non-null   int64  \n",
      " 5   Currency        2854 non-null   object \n",
      " 6   Weekday         2854 non-null   int64  \n",
      " 7   Weekend         2854 non-null   bool   \n",
      " 8   S&P 500 Open    2852 non-null   float64\n",
      " 9   S&P 500 High    2852 non-null   float64\n",
      " 10  S&P 500 Low     2852 non-null   float64\n",
      " 11  S&P 500 Close*  2852 non-null   float64\n",
      " 12  S&P 500 Volume  2852 non-null   float64\n",
      "dtypes: bool(1), float64(9), int64(2), object(1)\n",
      "memory usage: 292.6+ KB\n"
     ]
    }
   ],
   "source": [
    "btc_sp.info()"
   ]
  },
  {
   "cell_type": "markdown",
   "id": "5d41cffa",
   "metadata": {},
   "source": [
    "Valores nulos\n",
    "* El dataset presenta dos valores nulos en las columnas del S&P, por lo tanto, se eliminan a continuacion."
   ]
  },
  {
   "cell_type": "code",
   "execution_count": 19,
   "id": "6179bcbc",
   "metadata": {},
   "outputs": [
    {
     "data": {
      "text/plain": [
       "(2852, 13)"
      ]
     },
     "execution_count": 19,
     "metadata": {},
     "output_type": "execute_result"
    }
   ],
   "source": [
    "btc_sp = btc_sp.drop(['2022-07-09','2022-07-10'],axis=0)\n",
    "\n",
    "btc_sp.isna().sum()\n",
    "btc_sp.shape"
   ]
  },
  {
   "cell_type": "code",
   "execution_count": 20,
   "id": "e85a539d",
   "metadata": {},
   "outputs": [
    {
     "name": "stdout",
     "output_type": "stream",
     "text": [
      "<class 'pandas.core.frame.DataFrame'>\n",
      "DatetimeIndex: 2852 entries, 2014-09-17 to 2022-07-08\n",
      "Data columns (total 13 columns):\n",
      " #   Column          Non-Null Count  Dtype  \n",
      "---  ------          --------------  -----  \n",
      " 0   Open            2852 non-null   float64\n",
      " 1   High            2852 non-null   float64\n",
      " 2   Low             2852 non-null   float64\n",
      " 3   Close           2852 non-null   float64\n",
      " 4   Volume          2852 non-null   int64  \n",
      " 5   Currency        2852 non-null   object \n",
      " 6   Weekday         2852 non-null   int64  \n",
      " 7   Weekend         2852 non-null   bool   \n",
      " 8   S&P 500 Open    2852 non-null   float64\n",
      " 9   S&P 500 High    2852 non-null   float64\n",
      " 10  S&P 500 Low     2852 non-null   float64\n",
      " 11  S&P 500 Close*  2852 non-null   float64\n",
      " 12  S&P 500 Volume  2852 non-null   float64\n",
      "dtypes: bool(1), float64(9), int64(2), object(1)\n",
      "memory usage: 292.4+ KB\n"
     ]
    }
   ],
   "source": [
    "btc_sp.info()"
   ]
  },
  {
   "cell_type": "markdown",
   "id": "39e6a87e",
   "metadata": {},
   "source": [
    "Se observe que el dataset ya no tienen valores nulos."
   ]
  },
  {
   "cell_type": "markdown",
   "id": "c6ffda8e",
   "metadata": {},
   "source": [
    "### 2) Estadistica descriptiva\n",
    "\n",
    "#### Utiizamos ECDF´s plot para observar la distribución de los precios de BITCOIN"
   ]
  },
  {
   "cell_type": "code",
   "execution_count": 21,
   "id": "787ee653",
   "metadata": {},
   "outputs": [],
   "source": [
    "def ecdf(data):\n",
    "    \"\"\"Compute ECDF for a one-dimensional array of measurements.\"\"\"\n",
    "    # Number of data points: n\n",
    "    n = len(data)\n",
    "\n",
    "    # x-data for the ECDF: x\n",
    "    x = np.sort(data)\n",
    "\n",
    "    # y-data for the ECDF: y\n",
    "    y = np.arange(1, len(x)+1) / n\n",
    "\n",
    "    return x, y"
   ]
  },
  {
   "cell_type": "code",
   "execution_count": 22,
   "id": "6745bebe",
   "metadata": {},
   "outputs": [],
   "source": [
    "ecdf_Open_x, ecdf_Open_y = ecdf(btc_sp.Open)\n",
    "ecdf_High_x, ecdf_High_y = ecdf(btc_sp.High)\n",
    "ecdf_Low_x, ecdf_Low_y = ecdf(btc_sp.Low)\n",
    "ecdf_Close_x, ecdf_Close_y = ecdf(btc_sp.Close)\n",
    "ecdf_Volume_x, ecdf_Volume_y = ecdf(btc_sp.Volume)"
   ]
  },
  {
   "cell_type": "markdown",
   "id": "687d9bd8",
   "metadata": {},
   "source": [
    "#### Ploteamos nuestro ECDF "
   ]
  },
  {
   "cell_type": "code",
   "execution_count": 23,
   "id": "9b383518",
   "metadata": {},
   "outputs": [
    {
     "data": {
      "image/png": "[encoded data removed]",
      "text/plain": [
       "<Figure size 360x360 with 1 Axes>"
      ]
     },
     "metadata": {
      "needs_background": "light"
     },
     "output_type": "display_data"
    }
   ],
   "source": [
    "plt.figure(figsize=(5,5))\n",
    "#plt.plot(ecdf_open_x, ecdf_open_y, marker='.',linestyle='-')\n",
    "plt.plot(ecdf_Open_x, ecdf_Open_y)\n",
    "plt.xlabel('Open ($USD)')\n",
    "plt.ylabel('ECDF')\n",
    "plt.grid(color='r', linestyle='dotted', linewidth=1)\n",
    "plt.show()"
   ]
  },
  {
   "cell_type": "code",
   "execution_count": 24,
   "id": "a378c7ff",
   "metadata": {},
   "outputs": [
    {
     "data": {
      "image/png": "[encoded data removed]",
      "text/plain": [
       "<Figure size 360x720 with 5 Axes>"
      ]
     },
     "metadata": {
      "needs_background": "light"
     },
     "output_type": "display_data"
    }
   ],
   "source": [
    "# usar subplots: https://matplotlib.org/stable/gallery/subplots_axes_and_figures/subplots_demo.html\n",
    "\n",
    "fig, axs = plt.subplots(nrows=5, ncols=1, figsize=(5, 10))\n",
    "axs[0].plot(ecdf_Open_x, ecdf_Open_y)\n",
    "axs[0].set_title('Open')\n",
    "axs[1].plot(ecdf_Close_x, ecdf_Close_y)\n",
    "axs[1].set_title('Close')\n",
    "axs[2].plot(ecdf_High_x, ecdf_High_y)\n",
    "axs[2].set_title('High')\n",
    "axs[3].plot(ecdf_Low_x, ecdf_Low_y)\n",
    "axs[3].set_title('Low')\n",
    "axs[4].plot(ecdf_Volume_x, ecdf_Volume_y)\n",
    "axs[4].set_title('Volume')\n",
    "\n",
    "for ax in axs.flat:\n",
    "    ax.set(xlabel='x-label', ylabel='y-label')\n",
    "\n",
    "# # Hide x labels and tick labels for top plots and y ticks for right plots.\n",
    "# for ax in axs.flat:\n",
    "#     ax.label_outer()\n",
    "\n",
    "fig.tight_layout()\n",
    "plt.show()"
   ]
  },
  {
   "cell_type": "code",
   "execution_count": 25,
   "id": "f0ba0063",
   "metadata": {},
   "outputs": [
    {
     "data": {
      "image/png": "[encoded data removed]",
      "text/plain": [
       "<Figure size 360x360 with 1 Axes>"
      ]
     },
     "metadata": {
      "needs_background": "light"
     },
     "output_type": "display_data"
    }
   ],
   "source": [
    "date = btc_sp.index\n",
    "close = btc_sp['Close']\n",
    "\n",
    "plt.figure(figsize=(5,5))\n",
    "plt.plot(date, close, marker='.', linestyle='none')\n",
    "plt.xlabel('date')\n",
    "plt.ylabel('Price ($USD)')\n",
    "plt.title('Close')\n",
    "plt.grid(color='r', linestyle='dotted', linewidth=1)\n",
    "plt.show()"
   ]
  },
  {
   "cell_type": "markdown",
   "id": "7c9d4f34",
   "metadata": {},
   "source": [
    "Interpretación de serie de tiempo: se observa que en el periodo entre 2015 y comiendo de 2017 el valor de cierre se comporta de forma estable. En 2018, alcanza el primer pico de mayor valor. Luego, en 2021 alcanza el maximo y empieza a disminuir hasta 2022 pero de todas formas no rompe con el soporte correspondiente al pico de 2018. \n",
    "Por otro lado, en los primeros años se observa poca variabilidad en los datos reflejados casi como una linea. Luego, el comportamiento cambia, lo que lleva a pensar que se vio influenciado por diversos factores socio-politicos. \n"
   ]
  },
  {
   "cell_type": "markdown",
   "id": "495b20ce",
   "metadata": {},
   "source": [
    "#### Box Plot para observar mejor OUTLIERS"
   ]
  },
  {
   "cell_type": "code",
   "execution_count": 26,
   "id": "6a490153",
   "metadata": {},
   "outputs": [
    {
     "data": {
      "image/png": "[encoded data removed]",
      "text/plain": [
       "<Figure size 360x360 with 1 Axes>"
      ]
     },
     "metadata": {
      "needs_background": "light"
     },
     "output_type": "display_data"
    }
   ],
   "source": [
    "plt.figure(figsize=(5,5))\n",
    "sns.boxplot(y='Close', data=btc_sp)\n",
    "plt.ylabel('Close')\n",
    "plt.show()"
   ]
  },
  {
   "cell_type": "markdown",
   "id": "dd6d86ca",
   "metadata": {},
   "source": [
    "Interpretación de boxplot: se observa gran cantidad de outliers. El 50% de los valores de Close rondaron en 8000 y el 75%, en 30000. Se puede pensar en una asimetria a la derecha."
   ]
  },
  {
   "cell_type": "markdown",
   "id": "39ecce35",
   "metadata": {},
   "source": [
    "#### Correlación de los FEATURES"
   ]
  },
  {
   "cell_type": "code",
   "execution_count": 27,
   "id": "9a05c7cd",
   "metadata": {},
   "outputs": [
    {
     "data": {
      "text/plain": [
       "<AxesSubplot:>"
      ]
     },
     "execution_count": 27,
     "metadata": {},
     "output_type": "execute_result"
    },
    {
     "data": {
      "image/png": "[encoded data removed]",
      "text/plain": [
       "<Figure size 432x288 with 2 Axes>"
      ]
     },
     "metadata": {
      "needs_background": "light"
     },
     "output_type": "display_data"
    }
   ],
   "source": [
    "sns.heatmap(btc_sp.corr())"
   ]
  },
  {
   "cell_type": "markdown",
   "id": "9e622cfc",
   "metadata": {},
   "source": [
    "Interpretación de mapa de corrleación: se observa una correlacion positiva entre los valores de las variables numericas de Bitcoin con S&P500 (menos para la columna Volume, donde si bien es positiva, no es tan fuerte)."
   ]
  },
  {
   "cell_type": "markdown",
   "id": "4e08afcb",
   "metadata": {},
   "source": [
    "# Modelo"
   ]
  },
  {
   "cell_type": "code",
   "execution_count": 28,
   "id": "96d49d31",
   "metadata": {},
   "outputs": [
    {
     "data": {
      "text/html": [
       "<div>\n",
       "<style scoped>\n",
       "    .dataframe tbody tr th:only-of-type {\n",
       "        vertical-align: middle;\n",
       "    }\n",
       "\n",
       "    .dataframe tbody tr th {\n",
       "        vertical-align: top;\n",
       "    }\n",
       "\n",
       "    .dataframe thead th {\n",
       "        text-align: right;\n",
       "    }\n",
       "</style>\n",
       "<table border=\"1\" class=\"dataframe\">\n",
       "  <thead>\n",
       "    <tr style=\"text-align: right;\">\n",
       "      <th></th>\n",
       "      <th>Open</th>\n",
       "      <th>High</th>\n",
       "      <th>Low</th>\n",
       "      <th>Close</th>\n",
       "      <th>Volume</th>\n",
       "      <th>Currency</th>\n",
       "      <th>Weekday</th>\n",
       "      <th>Weekend</th>\n",
       "      <th>S&amp;P 500 Open</th>\n",
       "      <th>S&amp;P 500 High</th>\n",
       "      <th>S&amp;P 500 Low</th>\n",
       "      <th>S&amp;P 500 Close*</th>\n",
       "      <th>S&amp;P 500 Volume</th>\n",
       "    </tr>\n",
       "    <tr>\n",
       "      <th>Date</th>\n",
       "      <th></th>\n",
       "      <th></th>\n",
       "      <th></th>\n",
       "      <th></th>\n",
       "      <th></th>\n",
       "      <th></th>\n",
       "      <th></th>\n",
       "      <th></th>\n",
       "      <th></th>\n",
       "      <th></th>\n",
       "      <th></th>\n",
       "      <th></th>\n",
       "      <th></th>\n",
       "    </tr>\n",
       "  </thead>\n",
       "  <tbody>\n",
       "    <tr>\n",
       "      <th>2014-09-17</th>\n",
       "      <td>465.864014</td>\n",
       "      <td>468.174011</td>\n",
       "      <td>452.421997</td>\n",
       "      <td>457.334015</td>\n",
       "      <td>21056800</td>\n",
       "      <td>USD</td>\n",
       "      <td>2</td>\n",
       "      <td>True</td>\n",
       "      <td>1999.30</td>\n",
       "      <td>2010.74</td>\n",
       "      <td>1993.29</td>\n",
       "      <td>2001.57</td>\n",
       "      <td>3.209420e+09</td>\n",
       "    </tr>\n",
       "    <tr>\n",
       "      <th>2014-09-18</th>\n",
       "      <td>456.859985</td>\n",
       "      <td>456.859985</td>\n",
       "      <td>413.104004</td>\n",
       "      <td>424.440002</td>\n",
       "      <td>34483200</td>\n",
       "      <td>USD</td>\n",
       "      <td>3</td>\n",
       "      <td>True</td>\n",
       "      <td>2003.07</td>\n",
       "      <td>2012.34</td>\n",
       "      <td>2003.07</td>\n",
       "      <td>2011.36</td>\n",
       "      <td>3.235340e+09</td>\n",
       "    </tr>\n",
       "    <tr>\n",
       "      <th>2014-09-19</th>\n",
       "      <td>424.102997</td>\n",
       "      <td>427.834991</td>\n",
       "      <td>384.532013</td>\n",
       "      <td>394.795990</td>\n",
       "      <td>37919700</td>\n",
       "      <td>USD</td>\n",
       "      <td>4</td>\n",
       "      <td>True</td>\n",
       "      <td>2012.74</td>\n",
       "      <td>2019.26</td>\n",
       "      <td>2006.59</td>\n",
       "      <td>2010.40</td>\n",
       "      <td>4.880220e+09</td>\n",
       "    </tr>\n",
       "    <tr>\n",
       "      <th>2014-09-20</th>\n",
       "      <td>394.673004</td>\n",
       "      <td>423.295990</td>\n",
       "      <td>389.882996</td>\n",
       "      <td>408.903992</td>\n",
       "      <td>36863600</td>\n",
       "      <td>USD</td>\n",
       "      <td>5</td>\n",
       "      <td>True</td>\n",
       "      <td>2009.08</td>\n",
       "      <td>2009.08</td>\n",
       "      <td>1991.01</td>\n",
       "      <td>1994.29</td>\n",
       "      <td>3.349670e+09</td>\n",
       "    </tr>\n",
       "    <tr>\n",
       "      <th>2014-09-21</th>\n",
       "      <td>408.084991</td>\n",
       "      <td>412.425995</td>\n",
       "      <td>393.181000</td>\n",
       "      <td>398.821014</td>\n",
       "      <td>26580100</td>\n",
       "      <td>USD</td>\n",
       "      <td>6</td>\n",
       "      <td>False</td>\n",
       "      <td>2009.08</td>\n",
       "      <td>2009.08</td>\n",
       "      <td>1991.01</td>\n",
       "      <td>1994.29</td>\n",
       "      <td>3.349670e+09</td>\n",
       "    </tr>\n",
       "    <tr>\n",
       "      <th>...</th>\n",
       "      <td>...</td>\n",
       "      <td>...</td>\n",
       "      <td>...</td>\n",
       "      <td>...</td>\n",
       "      <td>...</td>\n",
       "      <td>...</td>\n",
       "      <td>...</td>\n",
       "      <td>...</td>\n",
       "      <td>...</td>\n",
       "      <td>...</td>\n",
       "      <td>...</td>\n",
       "      <td>...</td>\n",
       "      <td>...</td>\n",
       "    </tr>\n",
       "    <tr>\n",
       "      <th>2022-07-04</th>\n",
       "      <td>19297.314453</td>\n",
       "      <td>20258.748047</td>\n",
       "      <td>19063.066406</td>\n",
       "      <td>20231.261719</td>\n",
       "      <td>21594638208</td>\n",
       "      <td>USD</td>\n",
       "      <td>0</td>\n",
       "      <td>True</td>\n",
       "      <td>3792.61</td>\n",
       "      <td>3832.19</td>\n",
       "      <td>3742.06</td>\n",
       "      <td>3831.39</td>\n",
       "      <td>4.427900e+09</td>\n",
       "    </tr>\n",
       "    <tr>\n",
       "      <th>2022-07-05</th>\n",
       "      <td>20225.353516</td>\n",
       "      <td>20635.466797</td>\n",
       "      <td>19341.232422</td>\n",
       "      <td>20190.115234</td>\n",
       "      <td>26715546990</td>\n",
       "      <td>USD</td>\n",
       "      <td>1</td>\n",
       "      <td>True</td>\n",
       "      <td>3792.61</td>\n",
       "      <td>3832.19</td>\n",
       "      <td>3742.06</td>\n",
       "      <td>3831.39</td>\n",
       "      <td>4.427900e+09</td>\n",
       "    </tr>\n",
       "    <tr>\n",
       "      <th>2022-07-06</th>\n",
       "      <td>20194.619141</td>\n",
       "      <td>20595.529297</td>\n",
       "      <td>19823.511719</td>\n",
       "      <td>20548.246094</td>\n",
       "      <td>24598943708</td>\n",
       "      <td>USD</td>\n",
       "      <td>2</td>\n",
       "      <td>True</td>\n",
       "      <td>3831.98</td>\n",
       "      <td>3870.91</td>\n",
       "      <td>3809.37</td>\n",
       "      <td>3845.08</td>\n",
       "      <td>3.613120e+09</td>\n",
       "    </tr>\n",
       "    <tr>\n",
       "      <th>2022-07-07</th>\n",
       "      <td>20547.814453</td>\n",
       "      <td>21771.816406</td>\n",
       "      <td>20296.103516</td>\n",
       "      <td>21637.587891</td>\n",
       "      <td>25814972520</td>\n",
       "      <td>USD</td>\n",
       "      <td>3</td>\n",
       "      <td>True</td>\n",
       "      <td>3858.85</td>\n",
       "      <td>3910.63</td>\n",
       "      <td>3858.85</td>\n",
       "      <td>3902.62</td>\n",
       "      <td>3.337710e+09</td>\n",
       "    </tr>\n",
       "    <tr>\n",
       "      <th>2022-07-08</th>\n",
       "      <td>21637.154297</td>\n",
       "      <td>22314.941406</td>\n",
       "      <td>21257.453125</td>\n",
       "      <td>21731.117188</td>\n",
       "      <td>49899834488</td>\n",
       "      <td>USD</td>\n",
       "      <td>4</td>\n",
       "      <td>True</td>\n",
       "      <td>3888.26</td>\n",
       "      <td>3918.50</td>\n",
       "      <td>3869.34</td>\n",
       "      <td>3899.38</td>\n",
       "      <td>2.844620e+09</td>\n",
       "    </tr>\n",
       "  </tbody>\n",
       "</table>\n",
       "<p>2852 rows × 13 columns</p>\n",
       "</div>"
      ],
      "text/plain": [
       "                    Open          High           Low         Close  \\\n",
       "Date                                                                 \n",
       "2014-09-17    465.864014    468.174011    452.421997    457.334015   \n",
       "2014-09-18    456.859985    456.859985    413.104004    424.440002   \n",
       "2014-09-19    424.102997    427.834991    384.532013    394.795990   \n",
       "2014-09-20    394.673004    423.295990    389.882996    408.903992   \n",
       "2014-09-21    408.084991    412.425995    393.181000    398.821014   \n",
       "...                  ...           ...           ...           ...   \n",
       "2022-07-04  19297.314453  20258.748047  19063.066406  20231.261719   \n",
       "2022-07-05  20225.353516  20635.466797  19341.232422  20190.115234   \n",
       "2022-07-06  20194.619141  20595.529297  19823.511719  20548.246094   \n",
       "2022-07-07  20547.814453  21771.816406  20296.103516  21637.587891   \n",
       "2022-07-08  21637.154297  22314.941406  21257.453125  21731.117188   \n",
       "\n",
       "                 Volume Currency  Weekday  Weekend  S&P 500 Open  \\\n",
       "Date                                                               \n",
       "2014-09-17     21056800      USD        2     True       1999.30   \n",
       "2014-09-18     34483200      USD        3     True       2003.07   \n",
       "2014-09-19     37919700      USD        4     True       2012.74   \n",
       "2014-09-20     36863600      USD        5     True       2009.08   \n",
       "2014-09-21     26580100      USD        6    False       2009.08   \n",
       "...                 ...      ...      ...      ...           ...   \n",
       "2022-07-04  21594638208      USD        0     True       3792.61   \n",
       "2022-07-05  26715546990      USD        1     True       3792.61   \n",
       "2022-07-06  24598943708      USD        2     True       3831.98   \n",
       "2022-07-07  25814972520      USD        3     True       3858.85   \n",
       "2022-07-08  49899834488      USD        4     True       3888.26   \n",
       "\n",
       "            S&P 500 High  S&P 500 Low  S&P 500 Close*  S&P 500 Volume  \n",
       "Date                                                                   \n",
       "2014-09-17       2010.74      1993.29         2001.57    3.209420e+09  \n",
       "2014-09-18       2012.34      2003.07         2011.36    3.235340e+09  \n",
       "2014-09-19       2019.26      2006.59         2010.40    4.880220e+09  \n",
       "2014-09-20       2009.08      1991.01         1994.29    3.349670e+09  \n",
       "2014-09-21       2009.08      1991.01         1994.29    3.349670e+09  \n",
       "...                  ...          ...             ...             ...  \n",
       "2022-07-04       3832.19      3742.06         3831.39    4.427900e+09  \n",
       "2022-07-05       3832.19      3742.06         3831.39    4.427900e+09  \n",
       "2022-07-06       3870.91      3809.37         3845.08    3.613120e+09  \n",
       "2022-07-07       3910.63      3858.85         3902.62    3.337710e+09  \n",
       "2022-07-08       3918.50      3869.34         3899.38    2.844620e+09  \n",
       "\n",
       "[2852 rows x 13 columns]"
      ]
     },
     "execution_count": 28,
     "metadata": {},
     "output_type": "execute_result"
    }
   ],
   "source": [
    "btc_sp"
   ]
  },
  {
   "cell_type": "markdown",
   "id": "1d3d7e6b",
   "metadata": {},
   "source": [
    "#### Separamos las variables independientes en la matriz X y la variable dependiente en el vector y."
   ]
  },
  {
   "cell_type": "code",
   "execution_count": 29,
   "id": "75ae2674",
   "metadata": {},
   "outputs": [],
   "source": [
    "X = btc_sp.drop(columns=['Close','Currency'])\n",
    "y = btc_sp.iloc[:, 3].values"
   ]
  },
  {
   "cell_type": "markdown",
   "id": "3ab9d811",
   "metadata": {},
   "source": [
    "#### Dividimos el conjunto de datos en dos conjuntos para entrenamiento y prueba"
   ]
  },
  {
   "cell_type": "code",
   "execution_count": 30,
   "id": "74223e0e",
   "metadata": {},
   "outputs": [],
   "source": [
    "X_train, X_test, y_train, y_test = train_test_split(X,y,test_size =0.2,random_state=42,)"
   ]
  },
  {
   "cell_type": "markdown",
   "id": "02f14a16",
   "metadata": {},
   "source": [
    "#### Estandarizamos las escalas para las variables analizadas"
   ]
  },
  {
   "cell_type": "code",
   "execution_count": 31,
   "id": "b2c0c262",
   "metadata": {},
   "outputs": [],
   "source": [
    "from sklearn.preprocessing import StandardScaler\n",
    "sc = StandardScaler()\n",
    "X_train = sc.fit_transform(X_train)\n",
    "X_test = sc.transform(X_test)"
   ]
  },
  {
   "cell_type": "code",
   "execution_count": 32,
   "id": "eed096ef",
   "metadata": {},
   "outputs": [
    {
     "data": {
      "text/plain": [
       "array([[-0.68057286, -0.68140457, -0.67942938, ..., -0.6766257 ,\n",
       "        -0.68329562, -0.550448  ],\n",
       "       [-0.72467218, -0.72577099, -0.72507096, ..., -1.02685303,\n",
       "        -1.03476474, -0.01017306],\n",
       "       [-0.71685379, -0.71813466, -0.71716316, ..., -0.8704924 ,\n",
       "        -0.87934968, -0.83078111],\n",
       "       ...,\n",
       "       [-0.39252973, -0.39013687, -0.38426332, ..., -0.38943754,\n",
       "        -0.40709171, -0.61098654],\n",
       "       [-0.32623332, -0.31195184, -0.31575517, ..., -0.37548993,\n",
       "        -0.34576128, -0.42238291],\n",
       "       [-0.6975503 , -0.69857553, -0.69808003, ..., -0.76143613,\n",
       "        -0.76030889,  0.01309256]])"
      ]
     },
     "execution_count": 32,
     "metadata": {},
     "output_type": "execute_result"
    }
   ],
   "source": [
    "#Verificamos\n",
    "X_train"
   ]
  },
  {
   "cell_type": "code",
   "execution_count": 33,
   "id": "0bfa502d",
   "metadata": {},
   "outputs": [
    {
     "data": {
      "text/plain": [
       "array([[-0.53105234, -0.53619478, -0.52724432, ..., -0.38183884,\n",
       "        -0.38523492, -0.13948788],\n",
       "       [-0.7354483 , -0.73624738, -0.73618257, ..., -1.00985595,\n",
       "        -1.01135826, -0.20419215],\n",
       "       [-0.36469528, -0.37241493, -0.35432603, ..., -0.15836473,\n",
       "        -0.17042344, -0.51160253],\n",
       "       ...,\n",
       "       [-0.73794766, -0.7386909 , -0.73863673, ..., -0.96333895,\n",
       "        -0.95444134, -0.69820661],\n",
       "       [-0.04381159, -0.03440269, -0.05480287, ..., -0.03563582,\n",
       "        -0.01435131,  0.3705959 ],\n",
       "       [-0.26225597, -0.27146191, -0.25152425, ..., -0.09726273,\n",
       "        -0.11250232, -0.57551531]])"
      ]
     },
     "execution_count": 33,
     "metadata": {},
     "output_type": "execute_result"
    }
   ],
   "source": [
    "#Verificamos\n",
    "X_test"
   ]
  },
  {
   "cell_type": "code",
   "execution_count": 34,
   "id": "86f934c7",
   "metadata": {},
   "outputs": [
    {
     "data": {
      "text/plain": [
       "array([1211.67004395,  458.54800415,  587.559021  , ..., 6031.60009766,\n",
       "       7456.10986328,  892.68701172])"
      ]
     },
     "execution_count": 34,
     "metadata": {},
     "output_type": "execute_result"
    }
   ],
   "source": [
    "#Verificamos\n",
    "y_train"
   ]
  },
  {
   "cell_type": "code",
   "execution_count": 35,
   "id": "32060305",
   "metadata": {},
   "outputs": [
    {
     "data": {
      "text/plain": [
       "array([ 3661.30102539,   279.58499146,  6489.18994141,  3252.90991211,\n",
       "        9123.41015625, 50538.2421875 ,   386.35400391, 33155.84765625,\n",
       "         604.72802734,   247.27200317,   458.53601074,  2506.37011719,\n",
       "        2754.86010742,  4122.93994141, 33114.359375  , 48116.94140625,\n",
       "        7780.43994141, 18321.14453125,  9900.76757812, 16068.13867188,\n",
       "        7511.58886719,  6467.06982422, 10334.97460938,  9003.0703125 ,\n",
       "         651.78399658,  8491.9921875 ,   654.09698486,  3236.76171875,\n",
       "       10895.08984375,  6792.83007812, 47128.00390625,  2757.17993164,\n",
       "        1172.52001953,  8058.66992188,  2659.62988281,   711.52197266,\n",
       "        7707.77099609,  2084.72998047,   414.06500244,  3154.94995117,\n",
       "        1578.80004883,  8321.75683594,   705.02099609,  9087.30371094,\n",
       "        7218.37109375,  9337.54980469,  6238.04980469,  3378.93994141,\n",
       "         447.61099243, 58119.578125  ,  9598.17382812,   463.61599731,\n",
       "        9228.32519531,   254.32000732,  4610.47998047, 29374.15234375,\n",
       "         276.04901123,   606.16601562,  4229.35986328,   898.82202148,\n",
       "        3836.74121094, 53805.984375  , 18370.00195312,  8228.78320312,\n",
       "         902.82800293,  2480.84008789, 57539.9453125 ,  3792.39990234,\n",
       "         416.39401245, 46737.48046875, 30314.33398438,  8079.86279297,\n",
       "        6517.31005859,  2608.7199707 ,   639.89001465,  5298.38574219,\n",
       "        1205.01000977,   596.29797363,   363.18301392, 32569.84960938,\n",
       "       16569.40039062,  3820.40869141,  8574.50195312,   751.61602783,\n",
       "       28840.953125  ,  6191.19287109, 21637.58789062, 11410.52539062,\n",
       "       63326.98828125,  3687.36547852, 39371.04296875,   389.54598999,\n",
       "         381.64898682,   367.57299805, 36630.07421875,   586.75299072,\n",
       "         228.57299805, 10276.79394531, 33897.046875  ,   281.88500977,\n",
       "        3985.08081055,  8815.66210938,   437.16400146,   592.10302734,\n",
       "        6589.62011719,  9243.61425781,   236.92900085,  6376.70996094,\n",
       "        3820.7199707 ,  6332.62988281, 26762.6484375 , 43160.9296875 ,\n",
       "         661.28497314, 11359.40039062,  2372.56005859,  9190.85449219,\n",
       "         454.98498535,   265.67999268,   689.65100098,   320.04598999,\n",
       "         358.04199219,  9261.10449219,   781.48101807,   673.10601807,\n",
       "        2671.7800293 , 49150.53515625, 55137.3125    ,   383.75799561,\n",
       "         281.60101318,   423.41299438,  4426.89013672,  3576.0324707 ,\n",
       "         217.11099243, 48378.98828125,  3678.92456055,  9527.16015625,\n",
       "         970.40301514,   780.0869751 ,   285.21798706,  5590.68994141,\n",
       "       43503.84765625,  6225.97998047,   247.52600098,  8745.89453125,\n",
       "         375.49099731, 10301.09960938,   380.55499268, 11450.84667969,\n",
       "         416.32199097,   325.74899292,  1281.07995605, 43924.1171875 ,\n",
       "       49368.84765625,  4451.87011719,   374.78500366,   452.72799683,\n",
       "        9132.48828125, 39773.828125  ,  6502.58984375,  6495.83984375,\n",
       "       36276.8046875 , 49327.72265625,  3882.69628906,   361.18899536,\n",
       "         443.18798828, 12952.20019531,  7217.42724609,  4200.66992188,\n",
       "        5831.16748047,  8424.26953125, 46820.4921875 , 10855.37109375,\n",
       "         450.3039856 , 35678.12890625, 13016.23144531,  3486.18164062,\n",
       "       42816.5       , 18621.31445312,   338.3210144 ,  1021.75      ,\n",
       "       33922.9609375 ,  9729.32421875, 62026.078125  ,   921.78900146,\n",
       "       11601.47265625,  4403.74023438,   284.89401245,   313.85501099,\n",
       "        3905.94995117,   317.84298706, 39208.765625  ,   296.3789978 ,\n",
       "       38053.50390625,   377.3210144 ,  7822.0234375 ,  9174.91015625,\n",
       "         438.63900757, 32127.26757812,   311.08401489,  7271.78125   ,\n",
       "         281.6539917 ,  9328.19726562,  3954.11816406,   420.9039917 ,\n",
       "       17899.69921875, 46063.26953125,  9630.6640625 ,   323.04598999,\n",
       "       39294.19921875,   917.58599854, 10241.27246094,  4071.19018555,\n",
       "         607.1550293 , 18699.765625  ,  4376.52978516, 10323.75585938,\n",
       "       10442.17089844, 10343.10644531,  8879.62011719, 40218.4765625 ,\n",
       "         641.07202148,   310.86700439, 29001.72070312,  6329.95019531,\n",
       "       37002.44140625,   368.36999512,  6398.54003906,   374.47000122,\n",
       "        6985.47021484,  5303.8125    ,   423.56100464,  8988.59667969,\n",
       "        3464.01342773,   907.60998535,   658.66400146, 61393.6171875 ,\n",
       "         281.88198853,   317.23901367, 31533.06835938,   455.67098999,\n",
       "       26272.29492188,   921.01202393,  6461.00976562, 10623.54003906,\n",
       "         610.20397949, 61527.48046875,   400.57000732, 39747.50390625,\n",
       "         380.28900146,   214.86099243,  3604.57714844, 15290.90234375,\n",
       "         777.94396973,  3631.04003906,  9281.50976562,   421.65100098,\n",
       "        3521.06079102, 22803.08203125,  9842.66601562,  3583.96582031,\n",
       "        6951.79980469, 58323.953125  ,   438.71499634, 31792.31054688,\n",
       "        3648.43066406,  6786.02001953,   632.82800293,   243.86300659,\n",
       "        2175.4699707 ,   453.23001099, 10895.83007812,  2434.55004883,\n",
       "        9856.61132812,  8250.96972656, 53555.109375  ,  8845.74023438,\n",
       "       10245.296875  , 42412.43359375, 15178.20019531,  9273.52148438,\n",
       "       35566.65625   ,  4328.41015625, 14833.75390625,  1100.22998047,\n",
       "       10668.96875   ,  7884.90917969, 57200.29296875, 55859.796875  ,\n",
       "         580.18200684,   382.55599976,  8586.47363281,  3843.52001953,\n",
       "       35551.95703125,   422.48300171, 52774.265625  , 15479.56738281,\n",
       "         245.59500122,   272.72299194,  9256.1484375 ,   345.30499268,\n",
       "         347.37600708,   421.44400024, 57569.07421875,   243.59399414,\n",
       "        8218.45996094,   326.92700195,  8223.6796875 ,   239.83999634,\n",
       "       10106.29980469,  5235.55957031, 46091.390625  ,   235.42700195,\n",
       "        6595.41015625,   609.73498535, 54824.1171875 ,  8802.45996094,\n",
       "       10141.99609375,  8368.83007812,   233.51300049, 47092.4921875 ,\n",
       "         654.35198975,  5904.83007812,   231.21200562,   705.05401611,\n",
       "       42197.515625  ,   451.93798828,  4076.63256836,  3894.13085938,\n",
       "        8929.28027344,   219.42999268,  8838.375     ,  4226.06005859,\n",
       "         649.35998535,   289.60699463, 32313.10546875, 43113.87890625,\n",
       "       10399.66894531,  3614.234375  ,  3342.4699707 , 17527.        ,\n",
       "         709.84802246,   294.42700195,   233.84300232,   441.38900757,\n",
       "         250.89500427,   233.54299927, 39105.1484375 ,  6357.60009766,\n",
       "       10070.39257812,  8820.52246094, 10680.83789062,  7988.56054688,\n",
       "         373.44699097,  9045.390625  , 35787.24609375,   222.92599487,\n",
       "        9607.42382812,  6438.64453125,  6856.93017578,   387.53601074,\n",
       "        7023.52001953,   237.09599304, 17429.5       , 10793.33984375,\n",
       "        6371.29980469,   273.0920105 ,   591.05401611,  8942.80859375,\n",
       "         716.41101074,   271.91299438,  7624.91992188,   432.15200806,\n",
       "        8866.        ,   423.98901367,   226.42500305,  1143.81005859,\n",
       "        9375.47460938, 13819.79980469,   231.49299622,  9795.70019531,\n",
       "        9858.15039062,   364.33099365,  7720.25      ,   328.01501465,\n",
       "        6290.93017578, 11542.5       ,   243.93099976, 13031.17382812,\n",
       "         702.03100586,  3857.29760742,  6625.56005859,   223.83299255,\n",
       "        5830.25488281,  8813.58203125,   229.80999756,  8367.84765625,\n",
       "       40680.41796875, 10360.546875  , 10583.13476562,   391.72601318,\n",
       "        9194.84960938, 57248.45703125,   281.08200073,  5982.45751953,\n",
       "         416.43798828,   325.43099976, 10085.62792969,   261.55099487,\n",
       "        1187.81005859, 62227.96484375,  4161.27001953, 39740.3203125 ,\n",
       "         434.33401489,   902.20098877,  1267.11999512,  9278.80761719,\n",
       "       10938.27148438,   253.69700623,  7022.75976562,   737.22601318,\n",
       "         256.33599854,   235.34399414, 19345.12109375, 33005.76171875,\n",
       "        4376.62988281,  9552.86035156, 43099.69921875, 12407.33203125,\n",
       "       50784.5390625 ,   331.88598633, 33798.01171875,  9252.27734375,\n",
       "       65992.8359375 , 11680.8203125 ,  5059.81738281,  6675.35009766,\n",
       "       42451.7890625 , 37334.3984375 ,  9578.62988281, 10690.40039062,\n",
       "         310.73699951,  6606.77636719,   777.75701904, 36926.06640625,\n",
       "       11323.39746094,  6322.68994141, 31155.47851562, 54529.14453125,\n",
       "       64261.9921875 , 57005.42578125,  9181.01757812,   232.07899475,\n",
       "         229.78199768,  8601.79589844,   237.11599731,   286.18899536,\n",
       "         342.41500854, 28936.35546875,  6534.87988281,  1723.34997559,\n",
       "         426.76501465,  1150.        ,  6582.35986328,  1120.54003906,\n",
       "        6865.49316406,   376.52200317,  2548.29003906,  6300.85986328,\n",
       "         455.65301514, 10131.05566406, 50025.375     ,  5795.70849609,\n",
       "       63039.82421875, 48905.4921875 ,  8926.5703125 ,  5575.54980469,\n",
       "        6955.27001953,   222.88200378,  8108.11621094, 11440.70019531,\n",
       "        7711.10986328,   336.75299072,  3963.07055664,   293.62399292,\n",
       "         596.11602783, 11784.13769531,   432.51901245, 11489.70019531,\n",
       "       35552.515625  , 42235.546875  ,  5725.58984375,   236.46200562,\n",
       "         386.54901123,  8071.25976562,  7272.72021484,  4065.19995117,\n",
       "        7531.97998047,  7531.66357422, 46339.76171875,  9374.88769531,\n",
       "        8599.50878906,   609.24102783, 56477.81640625,  5210.515625  ,\n",
       "       38705.98046875, 13550.48925781, 16716.11132812,  6844.22998047,\n",
       "       49362.5078125 ,  7047.91699219, 11392.37890625,  8118.96777344,\n",
       "        9538.02441406, 10441.27636719, 17776.69921875,  6162.47998047,\n",
       "        5708.52001953, 39935.515625  ,   238.477005  ,  2717.02001953,\n",
       "         225.87399292, 50429.859375  , 19191.63085938,  7678.24023438,\n",
       "       54968.22265625, 23783.02929688,  1013.38000488,  7557.81982422,\n",
       "        3923.91870117, 57484.7890625 , 48829.83203125,   456.07800293,\n",
       "         442.40100098, 48561.16796875,   422.74499512,   238.72999573,\n",
       "         630.85699463, 40538.01171875, 32289.37890625, 39995.90625   ,\n",
       "       10951.        , 10231.74414062,  8723.78613281,  1210.29003906,\n",
       "         732.03497314, 14133.70703125, 11774.59570312,  4073.26000977,\n",
       "         411.62399292,  3620.81079102,  3600.86547852,   657.07098389,\n",
       "        6971.09179688, 11607.40039062, 14026.59960938, 45538.67578125,\n",
       "       45555.9921875 , 16624.59960938,  3851.04736328, 41441.1640625 ,\n",
       "         352.68399048, 12899.20019531,   241.11199951,  4078.59912109,\n",
       "         264.19500732,  8660.70019531,   253.82800293, 10549.32910156,\n",
       "         237.28300476, 11478.16894531,  8192.15039062])"
      ]
     },
     "execution_count": 35,
     "metadata": {},
     "output_type": "execute_result"
    }
   ],
   "source": [
    "#Verificamos\n",
    "y_test"
   ]
  },
  {
   "cell_type": "markdown",
   "id": "921d575f",
   "metadata": {},
   "source": [
    "### PCA"
   ]
  },
  {
   "cell_type": "code",
   "execution_count": 36,
   "id": "8d1b2bfa",
   "metadata": {},
   "outputs": [],
   "source": [
    "from sklearn.decomposition import PCA"
   ]
  },
  {
   "cell_type": "markdown",
   "id": "5999f1bf",
   "metadata": {},
   "source": [
    "#### Aplicamos el PCA para reducir la dimensión de 11 a 2 variables."
   ]
  },
  {
   "cell_type": "code",
   "execution_count": 37,
   "id": "f54e0a8c",
   "metadata": {},
   "outputs": [],
   "source": [
    "pca = PCA()\n",
    "pca = PCA(n_components = 2)\n",
    "X_train = pca.fit_transform(X_train)\n",
    "X_test = pca.transform(X_test)"
   ]
  },
  {
   "cell_type": "markdown",
   "id": "4dc5930b",
   "metadata": {},
   "source": [
    "#### Los conjuntos de X_train y X_test quedaron ahora con 2 variables de la siguiente manera:"
   ]
  },
  {
   "cell_type": "code",
   "execution_count": 38,
   "id": "a0612940",
   "metadata": {},
   "outputs": [
    {
     "data": {
      "text/plain": [
       "array([[-1.97508515, -0.94784729],\n",
       "       [-2.54112603,  2.75290984],\n",
       "       [-2.31664186,  0.12245816],\n",
       "       ...,\n",
       "       [-1.22776443,  0.47715965],\n",
       "       [-1.034775  , -0.94961554],\n",
       "       [-2.09783862, -0.99962718]])"
      ]
     },
     "execution_count": 38,
     "metadata": {},
     "output_type": "execute_result"
    }
   ],
   "source": [
    "X_train"
   ]
  },
  {
   "cell_type": "code",
   "execution_count": 39,
   "id": "0b230f9e",
   "metadata": {},
   "outputs": [
    {
     "data": {
      "text/plain": [
       "array([[-1.30676189,  0.42490888],\n",
       "       [-2.5055381 ,  0.06312725],\n",
       "       [-0.83198347,  0.47472164],\n",
       "       ...,\n",
       "       [-2.45529851, -0.59512682],\n",
       "       [ 0.05725407, -1.04695998],\n",
       "       [-0.63266265,  0.48407117]])"
      ]
     },
     "execution_count": 39,
     "metadata": {},
     "output_type": "execute_result"
    }
   ],
   "source": [
    "X_test"
   ]
  },
  {
   "cell_type": "markdown",
   "id": "ef5de5fa",
   "metadata": {},
   "source": [
    "#### Explicación de la varianza de las componentes"
   ]
  },
  {
   "cell_type": "code",
   "execution_count": 40,
   "id": "54df6854",
   "metadata": {},
   "outputs": [
    {
     "data": {
      "text/plain": [
       "array([0.66862041, 0.14755361])"
      ]
     },
     "execution_count": 40,
     "metadata": {},
     "output_type": "execute_result"
    }
   ],
   "source": [
    "explained_variance = pca.explained_variance_ratio_\n",
    "explained_variance"
   ]
  },
  {
   "cell_type": "markdown",
   "id": "4797625e",
   "metadata": {},
   "source": [
    "El primer componente explica el 66.8% de la variabilidad de los datos y el segundo el 14.7%"
   ]
  },
  {
   "cell_type": "markdown",
   "id": "28675a28",
   "metadata": {},
   "source": [
    "### Prediccion"
   ]
  },
  {
   "cell_type": "markdown",
   "id": "6ec83381",
   "metadata": {},
   "source": [
    "Para comprobar que las dos componentes resultantes representan a las 11 variables originales vamos a hacer \n",
    "la predicción de la variable dependiente con la regresión lineal multiple, comprobando los resultados de predicción\n",
    "con distintas metricas."
   ]
  },
  {
   "cell_type": "markdown",
   "id": "91f7accf",
   "metadata": {},
   "source": [
    "Supuestos del modelo de regresión lineal múltiple:\n",
    "Para poder crear un modelo de regresión lineal es necesario que se cumpla con los siguientes\n",
    "supuestos:\n",
    "* Linealidad: Que la relación entre las variables sea lineal.\n",
    "* Independencia: Que los errores en la medición de las variables explicativas sean\n",
    "independientes entre sí.\n",
    "* Homocedasticidad: Que los errores tengan varianza constante.\n",
    "* Normalidad: Que las variables sigan la Ley Normal.\n",
    "* No colinealidad: Que las variables independientes no estén correlacionadas entre ellas."
   ]
  },
  {
   "cell_type": "code",
   "execution_count": 41,
   "id": "a949a340",
   "metadata": {},
   "outputs": [],
   "source": [
    "# Creating regressor\n",
    "reg = LinearRegression().fit(X_train,y_train)"
   ]
  },
  {
   "cell_type": "code",
   "execution_count": 42,
   "id": "eca0a1e6",
   "metadata": {},
   "outputs": [
    {
     "data": {
      "text/plain": [
       "array([5945.13952645,  181.18933092])"
      ]
     },
     "execution_count": 42,
     "metadata": {},
     "output_type": "execute_result"
    }
   ],
   "source": [
    "reg.coef_"
   ]
  },
  {
   "cell_type": "code",
   "execution_count": 43,
   "id": "f60e8930",
   "metadata": {},
   "outputs": [
    {
     "data": {
      "text/plain": [
       "12541.516388595026"
      ]
     },
     "execution_count": 43,
     "metadata": {},
     "output_type": "execute_result"
    }
   ],
   "source": [
    "reg.intercept_"
   ]
  },
  {
   "cell_type": "code",
   "execution_count": 44,
   "id": "6e9c6c92",
   "metadata": {},
   "outputs": [],
   "source": [
    "y_pred = reg.predict(X_test)"
   ]
  },
  {
   "cell_type": "markdown",
   "id": "23d80a9f",
   "metadata": {},
   "source": [
    "### Metricas"
   ]
  },
  {
   "cell_type": "code",
   "execution_count": 45,
   "id": "8ac227c1",
   "metadata": {},
   "outputs": [],
   "source": [
    "from sklearn.metrics import accuracy_score"
   ]
  },
  {
   "cell_type": "code",
   "execution_count": 53,
   "id": "480a05cf",
   "metadata": {},
   "outputs": [
    {
     "data": {
      "text/plain": [
       "0.9379983125450726"
      ]
     },
     "execution_count": 53,
     "metadata": {},
     "output_type": "execute_result"
    }
   ],
   "source": [
    "reg.score(X_train, y_train)"
   ]
  },
  {
   "cell_type": "code",
   "execution_count": 47,
   "id": "3e088e7c",
   "metadata": {},
   "outputs": [],
   "source": [
    "from sklearn.metrics import mean_absolute_error, mean_squared_error"
   ]
  },
  {
   "cell_type": "markdown",
   "id": "4f08aac2",
   "metadata": {},
   "source": [
    "#### MAE"
   ]
  },
  {
   "cell_type": "code",
   "execution_count": 48,
   "id": "120bc65a",
   "metadata": {},
   "outputs": [
    {
     "data": {
      "text/plain": [
       "3124.9241361542004"
      ]
     },
     "execution_count": 48,
     "metadata": {},
     "output_type": "execute_result"
    }
   ],
   "source": [
    "mean_absolute_error(y_test, y_pred)"
   ]
  },
  {
   "cell_type": "markdown",
   "id": "616c19f6",
   "metadata": {},
   "source": [
    "#### MSE"
   ]
  },
  {
   "cell_type": "code",
   "execution_count": 49,
   "id": "f8ac9237",
   "metadata": {},
   "outputs": [
    {
     "data": {
      "text/plain": [
       "16776350.252308112"
      ]
     },
     "execution_count": 49,
     "metadata": {},
     "output_type": "execute_result"
    }
   ],
   "source": [
    "mean_squared_error(y_test, y_pred)"
   ]
  },
  {
   "cell_type": "code",
   "execution_count": 50,
   "id": "2a8e6580",
   "metadata": {},
   "outputs": [
    {
     "data": {
      "text/html": [
       "<div>\n",
       "<style scoped>\n",
       "    .dataframe tbody tr th:only-of-type {\n",
       "        vertical-align: middle;\n",
       "    }\n",
       "\n",
       "    .dataframe tbody tr th {\n",
       "        vertical-align: top;\n",
       "    }\n",
       "\n",
       "    .dataframe thead th {\n",
       "        text-align: right;\n",
       "    }\n",
       "</style>\n",
       "<table border=\"1\" class=\"dataframe\">\n",
       "  <thead>\n",
       "    <tr style=\"text-align: right;\">\n",
       "      <th></th>\n",
       "      <th>actual</th>\n",
       "      <th>pred</th>\n",
       "    </tr>\n",
       "  </thead>\n",
       "  <tbody>\n",
       "    <tr>\n",
       "      <th>0</th>\n",
       "      <td>3661.301025</td>\n",
       "      <td>4849.623563</td>\n",
       "    </tr>\n",
       "    <tr>\n",
       "      <th>1</th>\n",
       "      <td>279.584991</td>\n",
       "      <td>-2342.819194</td>\n",
       "    </tr>\n",
       "    <tr>\n",
       "      <th>2</th>\n",
       "      <td>6489.189941</td>\n",
       "      <td>7681.273075</td>\n",
       "    </tr>\n",
       "    <tr>\n",
       "      <th>3</th>\n",
       "      <td>3252.909912</td>\n",
       "      <td>3096.772878</td>\n",
       "    </tr>\n",
       "    <tr>\n",
       "      <th>4</th>\n",
       "      <td>9123.410156</td>\n",
       "      <td>14030.182147</td>\n",
       "    </tr>\n",
       "    <tr>\n",
       "      <th>...</th>\n",
       "      <td>...</td>\n",
       "      <td>...</td>\n",
       "    </tr>\n",
       "    <tr>\n",
       "      <th>566</th>\n",
       "      <td>253.828003</td>\n",
       "      <td>-2043.125313</td>\n",
       "    </tr>\n",
       "    <tr>\n",
       "      <th>567</th>\n",
       "      <td>10549.329102</td>\n",
       "      <td>19889.732640</td>\n",
       "    </tr>\n",
       "    <tr>\n",
       "      <th>568</th>\n",
       "      <td>237.283005</td>\n",
       "      <td>-2163.406464</td>\n",
       "    </tr>\n",
       "    <tr>\n",
       "      <th>569</th>\n",
       "      <td>11478.168945</td>\n",
       "      <td>12692.201849</td>\n",
       "    </tr>\n",
       "    <tr>\n",
       "      <th>570</th>\n",
       "      <td>8192.150391</td>\n",
       "      <td>8867.957191</td>\n",
       "    </tr>\n",
       "  </tbody>\n",
       "</table>\n",
       "<p>571 rows × 2 columns</p>\n",
       "</div>"
      ],
      "text/plain": [
       "           actual          pred\n",
       "0     3661.301025   4849.623563\n",
       "1      279.584991  -2342.819194\n",
       "2     6489.189941   7681.273075\n",
       "3     3252.909912   3096.772878\n",
       "4     9123.410156  14030.182147\n",
       "..            ...           ...\n",
       "566    253.828003  -2043.125313\n",
       "567  10549.329102  19889.732640\n",
       "568    237.283005  -2163.406464\n",
       "569  11478.168945  12692.201849\n",
       "570   8192.150391   8867.957191\n",
       "\n",
       "[571 rows x 2 columns]"
      ]
     },
     "execution_count": 50,
     "metadata": {},
     "output_type": "execute_result"
    }
   ],
   "source": [
    "results = pd.DataFrame()\n",
    "results['actual'] = y_test.tolist()\n",
    "results['pred'] = y_pred.tolist()\n",
    "\n",
    "results"
   ]
  },
  {
   "cell_type": "code",
   "execution_count": 51,
   "id": "452ec796",
   "metadata": {},
   "outputs": [
    {
     "data": {
      "text/plain": [
       "<AxesSubplot:xlabel='actual', ylabel='pred'>"
      ]
     },
     "execution_count": 51,
     "metadata": {},
     "output_type": "execute_result"
    },
    {
     "data": {
      "image/png": "[encoded data removed]",
      "text/plain": [
       "<Figure size 432x288 with 1 Axes>"
      ]
     },
     "metadata": {
      "needs_background": "light"
     },
     "output_type": "display_data"
    }
   ],
   "source": [
    "sns.scatterplot(data=results, x='actual', y='pred')"
   ]
  },
  {
   "cell_type": "code",
   "execution_count": null,
   "id": "8530814a",
   "metadata": {},
   "outputs": [],
   "source": []
  }
 ],
 "metadata": {
  "kernelspec": {
   "display_name": "Python 3 (ipykernel)",
   "language": "python",
   "name": "python3"
  },
  "language_info": {
   "codemirror_mode": {
    "name": "ipython",
    "version": 3
   },
   "file_extension": ".py",
   "mimetype": "text/x-python",
   "name": "python",
   "nbconvert_exporter": "python",
   "pygments_lexer": "ipython3",
   "version": "3.9.7"
  }
 },
 "nbformat": 4,
 "nbformat_minor": 5
}
